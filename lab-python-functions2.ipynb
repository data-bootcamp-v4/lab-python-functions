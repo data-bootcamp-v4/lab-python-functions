{
 "cells": [
  {
   "cell_type": "markdown",
   "id": "25d7736c-ba17-4aff-b6bb-66eba20fbf4e",
   "metadata": {},
   "source": [
    "# Lab | Functions"
   ]
  },
  {
   "cell_type": "markdown",
   "id": "0c581062-8967-4d93-b06e-62833222f930",
   "metadata": {
    "tags": []
   },
   "source": [
    "## Exercise: Managing Customer Orders with Functions\n",
    "\n",
    "In the previous exercise, you improved the code for managing customer orders by using loops and flow control. Now, let's take it a step further and refactor the code by introducing functions.\n",
    "\n",
    "Follow the steps below to complete the exercise:\n",
    "\n",
    "1. Define a function named `initialize_inventory` that takes `products` as a parameter. Inside the function, implement the code for initializing the inventory dictionary using a loop and user input.\n",
    "\n",
    "2. Define a function named `get_customer_orders` that takes no parameters. Inside the function, implement the code for prompting the user to enter the product names using a loop. The function should return the `customer_orders` set.\n",
    "\n",
    "3. Define a function named `update_inventory` that takes `customer_orders` and `inventory` as parameters. Inside the function, implement the code for updating the inventory dictionary based on the customer orders.\n",
    "\n",
    "4. Define a function named `calculate_order_statistics` that takes `customer_orders` and `products` as parameters. Inside the function, implement the code for calculating the order statistics (total products ordered, and percentage of unique products ordered). The function should return these values.\n",
    "\n",
    "5. Define a function named `print_order_statistics` that takes `order_statistics` as a parameter. Inside the function, implement the code for printing the order statistics.\n",
    "\n",
    "6. Define a function named `print_updated_inventory` that takes `inventory` as a parameter. Inside the function, implement the code for printing the updated inventory.\n",
    "\n",
    "7. Call the functions in the appropriate sequence to execute the program and manage customer orders.\n",
    "\n",
    "Hints for functions:\n",
    "\n",
    "- Consider the input parameters required for each function and their return values.\n",
    "- Utilize function parameters and return values to transfer data between functions.\n",
    "- Test your functions individually to ensure they work correctly.\n",
    "\n",
    "\n"
   ]
  },
  {
   "cell_type": "code",
   "execution_count": 67,
   "id": "d0766439-230c-4ff6-9464-9bd3da77d71b",
   "metadata": {},
   "outputs": [
    {
     "name": "stdin",
     "output_type": "stream",
     "text": [
      "Input the quantity for t-shirt:  2\n",
      "Input the quantity for mug:  3\n",
      "Input the quantity for hat:  4\n",
      "Input the quantity for book:  5\n",
      "Input the quantity for keychain:  6\n"
     ]
    },
    {
     "name": "stdout",
     "output_type": "stream",
     "text": [
      "{'t-shirt': 2, 'mug': 3, 'hat': 4, 'book': 5, 'keychain': 6}\n"
     ]
    }
   ],
   "source": [
    "products = [\"t-shirt\", \"mug\", \"hat\", \"book\", \"keychain\"]\n",
    "\n",
    "\n",
    "# 1\n",
    "# Define a function named initialize_inventory that takes products as a parameter.\n",
    "# Inside the function, implement the code for initializing the inventory dictionary using a loop and user input\n",
    "\n",
    "def initialize_inventory(products):\n",
    "    inventory = {}\n",
    "    for product in products:\n",
    "        while True:\n",
    "           try:\n",
    "               quantity = int(input(f'Input the quantity for {product}: '))\n",
    "               break\n",
    "           except ValueError:\n",
    "               print('Please enter a valid integer.')\n",
    "        inventory[product] = quantity\n",
    "    return inventory\n",
    "# Usability\n",
    "inventory = initialize_inventory(products)\n",
    "print (inventory)\n",
    "\n"
   ]
  },
  {
   "cell_type": "code",
   "execution_count": 71,
   "id": "1baa8eea-2b7c-47db-a3a0-5483606a448c",
   "metadata": {},
   "outputs": [
    {
     "ename": "IndentationError",
     "evalue": "unexpected indent (1008797114.py, line 8)",
     "output_type": "error",
     "traceback": [
      "\u001b[1;36m  Cell \u001b[1;32mIn[71], line 8\u001b[1;36m\u001b[0m\n\u001b[1;33m    while True:\u001b[0m\n\u001b[1;37m    ^\u001b[0m\n\u001b[1;31mIndentationError\u001b[0m\u001b[1;31m:\u001b[0m unexpected indent\n"
     ]
    }
   ],
   "source": [
    "# 2\n",
    "# Define a function named get_customer_orders that takes no parameters.\n",
    "# Inside the function, implement the code for prompting the user to enter the product names using a loop. \n",
    "# The function should return the customer_orders set.\n",
    "\n",
    "def get_customer_orders():\n",
    "    customer_orders = set()\n",
    "     while True:\n",
    "         order = input('Enter the name of a product you want to order: ').lower()\n",
    "         if order in products:\n",
    "             customer_orders.add(order)\n",
    "         else:\n",
    "             print('The product is not in our list.')\n",
    "         if input('Do you want to add another product? (yes/no) ').lower() == 'no':\n",
    "             break\n",
    "     return customer_orders\n",
    "\n",
    "# Usability\n",
    "customer_orders = get_customer_orders()\n",
    "print (customer_orders)\n",
    "\n"
   ]
  },
  {
   "cell_type": "code",
   "execution_count": 62,
   "id": "3e4b0e2a-4a31-496b-bb64-56a25d55924f",
   "metadata": {},
   "outputs": [
    {
     "name": "stdout",
     "output_type": "stream",
     "text": [
      "{'t-shirt': 2, 'mug': 1, 'hat': 4, 'book': 4, 'keychain': 6}\n"
     ]
    }
   ],
   "source": [
    "# 3\n",
    "# Define a function named update_inventory that takes customer_orders and inventory as parameters.\n",
    "# Inside the function, implement the code for updating the inventory dictionary based on the customer orders.\n",
    "\n",
    "def update_inventory(customer_orders, inventory):\n",
    "    for product in customer_orders:\n",
    "        inventory[product]= int(inventory[product])-1\n",
    "    return inventory\n",
    "\n",
    "# Usability\n",
    "outcome = update_inventory(customer_orders, inventory)\n",
    "print (outcome)\n",
    "\n"
   ]
  },
  {
   "cell_type": "code",
   "execution_count": 63,
   "id": "4d881dbc-02c8-444b-b437-19753660a354",
   "metadata": {},
   "outputs": [
    {
     "name": "stdout",
     "output_type": "stream",
     "text": [
      "(1, 20.0)\n"
     ]
    }
   ],
   "source": [
    "# 4\n",
    "# Define a function named calculate_order_statistics that takes customer_orders and products as parameters.\n",
    "# Inside the function, implement the code for calculating the order statistics (total products ordered, and percentage of unique products ordered). \n",
    "# The function should return these values.\n",
    "\n",
    "def calculate_order_statistics(customer_orders, products):\n",
    "    total_products_ordered = len(customer_orders)\n",
    "    total_products_inventory = len(products)\n",
    "    if total_products_inventory >= 0:\n",
    "        percentage_of_products_ordered = total_products_ordered/total_products_inventory*100\n",
    "        order_statistics = (total_products_ordered, percentage_of_products_ordered)\n",
    "    else:\n",
    "        order_statistics = (\"We have no products in inventory\")\n",
    "    return order_statistics\n",
    "\n",
    "# Usability\n",
    "order_stats = calculate_order_statistics(customer_orders, products)\n",
    "print (order_stats)\n"
   ]
  },
  {
   "cell_type": "code",
   "execution_count": 64,
   "id": "e426a573-c6e5-47f3-bdf5-5c2d2a72d7f6",
   "metadata": {},
   "outputs": [
    {
     "name": "stdout",
     "output_type": "stream",
     "text": [
      "Order statistics\n",
      "Total Products Ordered: 1\n",
      "Percentage of Products Ordered: 20.0%\n",
      "None\n"
     ]
    }
   ],
   "source": [
    "# 5\n",
    "# Define a function named print_order_statistics that takes order_statistics as a parameter.\n",
    "# Inside the function, implement the code for printing the order statistics.\n",
    "\n",
    "def print_order_statistics(order_stats):\n",
    "    print('Order statistics')\n",
    "    print(f'Total Products Ordered: {order_stats[0]}')\n",
    "    print(f'Percentage of Products Ordered: {order_stats[1]}%')\n",
    "\n",
    "# Usability\n",
    "\n",
    "information = print_order_statistics(order_stats)\n",
    "print (information)\n",
    "\n"
   ]
  },
  {
   "cell_type": "code",
   "execution_count": 65,
   "id": "4d3df2be-292a-44dd-a6cf-3f028e2a4700",
   "metadata": {},
   "outputs": [
    {
     "name": "stdout",
     "output_type": "stream",
     "text": [
      "{'t-shirt': 2, 'mug': 1, 'hat': 4, 'book': 4, 'keychain': 6}\n",
      "New_inventory {'t-shirt': 2, 'mug': 1, 'hat': 4, 'book': 4, 'keychain': 6}\n"
     ]
    }
   ],
   "source": [
    "# 6\n",
    "# Define a function named print_updated_inventory that takes inventory as a parameter.\n",
    "# Inside the function, implement the code for printing the updated inventory.\n",
    "\n",
    "def print_updated_inventory(inventory):\n",
    "    print (inventory)\n",
    "\n",
    "# Usability\n",
    "New_inventory = print_updated_inventory(inventory)\n",
    "print ('New_inventory', inventory)"
   ]
  },
  {
   "cell_type": "code",
   "execution_count": 66,
   "id": "63e2f8e8-19ad-46ff-850a-c0d3b26b29cf",
   "metadata": {},
   "outputs": [
    {
     "name": "stdin",
     "output_type": "stream",
     "text": [
      "input the quantity for t-shirt: 2\n",
      "input the quantity for mug: 3\n",
      "input the quantity for hat: 4\n",
      "input the quantity for book: 5\n",
      "input the quantity for keychain: 6\n",
      "enter the name of a product you want to order Yes\n"
     ]
    },
    {
     "name": "stdout",
     "output_type": "stream",
     "text": [
      "The product is not in our list\n"
     ]
    },
    {
     "name": "stdin",
     "output_type": "stream",
     "text": [
      "Do you want to add another product? (yes/no) Yes\n"
     ]
    },
    {
     "name": "stdout",
     "output_type": "stream",
     "text": [
      "Perfect\n"
     ]
    },
    {
     "name": "stdin",
     "output_type": "stream",
     "text": [
      "enter the name of a product you want to order mug\n",
      "Do you want to add another product? (yes/no) no\n"
     ]
    },
    {
     "name": "stdout",
     "output_type": "stream",
     "text": [
      "Order statistics\n",
      "Total Products Ordered: 1\n",
      "Percentage of Products Ordered: 20.0%\n",
      "{'t-shirt': 2, 'mug': 1, 'hat': 4, 'book': 3, 'keychain': 6}\n"
     ]
    }
   ],
   "source": [
    "initialize_inventory(products)\n",
    "get_customer_orders()\n",
    "update_inventory(customer_orders, inventory)\n",
    "calculate_order_statistics(customer_orders, products)\n",
    "print_order_statistics(order_stats)\n",
    "print_updated_inventory(inventory)"
   ]
  },
  {
   "cell_type": "code",
   "execution_count": null,
   "id": "043cf9b5-0443-4d00-9ad5-e028386ffbb0",
   "metadata": {},
   "outputs": [],
   "source": []
  }
 ],
 "metadata": {
  "kernelspec": {
   "display_name": "Python 3 (ipykernel)",
   "language": "python",
   "name": "python3"
  },
  "language_info": {
   "codemirror_mode": {
    "name": "ipython",
    "version": 3
   },
   "file_extension": ".py",
   "mimetype": "text/x-python",
   "name": "python",
   "nbconvert_exporter": "python",
   "pygments_lexer": "ipython3",
   "version": "3.11.7"
  }
 },
 "nbformat": 4,
 "nbformat_minor": 5
}
