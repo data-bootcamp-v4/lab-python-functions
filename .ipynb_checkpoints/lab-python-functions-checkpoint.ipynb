{
 "cells": [
  {
   "cell_type": "markdown",
   "id": "25d7736c-ba17-4aff-b6bb-66eba20fbf4e",
   "metadata": {},
   "source": [
    "# Lab | Functions"
   ]
  },
  {
   "cell_type": "markdown",
   "id": "3008ad72-7aca-4bea-8f7b-1000a5941d69",
   "metadata": {
    "tags": []
   },
   "source": [
    "## Exercise: Managing Customer Orders with Functions\n",
    "\n",
    "In the previous exercise, you improved the code for managing customer orders by using loops and flow control. Now, let's take it a step further and refactor the code by introducing functions.\n",
    "\n",
    "Follow the steps below to complete the exercise:\n",
    "\n",
    "1. Define a function named `initialize_inventory` that takes `products` as a parameter. Inside the function, implement the code for initializing the inventory dictionary using a loop and user input.\n",
    "\n",
    "2. Define a function named `get_customer_orders` that takes no parameters. Inside the function, implement the code for prompting the user to enter the product names using a loop. The function should return the `customer_orders` set.\n",
    "\n",
    "3. Define a function named `update_inventory` that takes `customer_orders` and `inventory` as parameters. Inside the function, implement the code for updating the inventory dictionary based on the customer orders.\n",
    "\n",
    "4. Define a function named `calculate_order_statistics` that takes `customer_orders` and `products` as parameters. Inside the function, implement the code for calculating the order statistics (total products ordered, unique products ordered, and percentage of unique products ordered). The function should return these values.\n",
    "\n",
    "5. Define a function named `print_order_statistics` that takes `order_statistics` as a parameter. Inside the function, implement the code for printing the order statistics.\n",
    "\n",
    "6. Define a function named `print_updated_inventory` that takes `inventory` as a parameter. Inside the function, implement the code for printing the updated inventory.\n",
    "\n",
    "7. Call the functions in the appropriate sequence to execute the program and manage customer orders.\n",
    "\n",
    "Hints for functions:\n",
    "\n",
    "- Consider the input parameters required for each function and their return values.\n",
    "- Utilize function parameters and return values to transfer data between functions.\n",
    "- Test your functions individually to ensure they work correctly.\n",
    "\n",
    "\n"
   ]
  },
  {
   "cell_type": "code",
   "execution_count": 2,
   "id": "d9fc5cbf",
   "metadata": {},
   "outputs": [
    {
     "name": "stdout",
     "output_type": "stream",
     "text": [
      "how many tshirts are there?3\n",
      "how many mugs are there?3\n",
      "how many hats are there?3\n",
      "how many books are there?3\n",
      "how many keychains are there?3\n",
      "{'tshirts': 3, 'mugs': 3, 'hats': 3, 'books': 3, 'keychains': 3}\n"
     ]
    }
   ],
   "source": [
    "### 1\n",
    "\n",
    "products = ['tshirt', 'mug', 'hat', 'book', 'keychain']\n",
    "\n",
    "inventory = {}\n",
    "\n",
    "def initialize_inventory(products):\n",
    "    for product in range(len(products)):\n",
    "        tshirts = int(input(\"how many tshirts are there?\"))\n",
    "        inventory['tshirts'] = tshirts\n",
    "        mugs = int(input(\"how many mugs are there?\"))\n",
    "        inventory['mugs'] = mugs\n",
    "        hats = int(input(\"how many hats are there?\"))\n",
    "        inventory['hats'] = hats\n",
    "        books = int(input(\"how many books are there?\"))\n",
    "        inventory['books'] = books\n",
    "        keychains = int(input(\"how many keychains are there?\"))\n",
    "        inventory['keychains'] = keychains\n",
    "        break\n",
    "    print(inventory)\n",
    "    return\n",
    "\n",
    "initialize_inventory(products)"
   ]
  },
  {
   "cell_type": "code",
   "execution_count": 3,
   "id": "ed42e61d",
   "metadata": {},
   "outputs": [
    {
     "name": "stdout",
     "output_type": "stream",
     "text": [
      "would you like to place an order?yes\n",
      "what would that be: mugs, books, keychains, hats or tshirts?mugs\n",
      "would you like to place an order?no\n",
      "we'll help you checkout now. thanks!\n",
      "{'mugs'}\n"
     ]
    },
    {
     "data": {
      "text/plain": [
       "{'mugs'}"
      ]
     },
     "execution_count": 3,
     "metadata": {},
     "output_type": "execute_result"
    }
   ],
   "source": [
    "### 2\n",
    "customer_orders = set()\n",
    "\n",
    "\n",
    "def get_customer_orders():\n",
    "    customer2 = input('would you like to place an order?')\n",
    "    while customer2 == \"yes\":\n",
    "        customer3 = input('what would that be: mugs, books, keychains, hats or tshirts?')\n",
    "        customer_orders.add(customer3)\n",
    "        customer2 = input('would you like to place an order?')\n",
    "    else:\n",
    "        print(\"we'll help you checkout now. thanks!\")\n",
    "        print(customer_orders)\n",
    "    return customer_orders\n",
    "\n",
    "get_customer_orders()\n",
    "             \n",
    "    \n"
   ]
  },
  {
   "cell_type": "code",
   "execution_count": 4,
   "id": "00b221d0",
   "metadata": {},
   "outputs": [
    {
     "name": "stdout",
     "output_type": "stream",
     "text": [
      "{'tshirts': 3, 'mugs': 2, 'hats': 3, 'books': 3, 'keychains': 3}\n"
     ]
    }
   ],
   "source": [
    "#3\n",
    "\n",
    "\n",
    "def update_inventory(customer_orders, inventory):\n",
    "    substraction_value = 1\n",
    "    for key in inventory:\n",
    "        if key in customer_orders:  \n",
    "            inventory[key] -= substraction_value\n",
    "    print(inventory)\n",
    "    return\n",
    "\n",
    "update_inventory(customer_orders, inventory)"
   ]
  },
  {
   "cell_type": "code",
   "execution_count": 5,
   "id": "4169cde9",
   "metadata": {},
   "outputs": [
    {
     "name": "stdout",
     "output_type": "stream",
     "text": [
      "Order statistics:\n",
      "Total products ordered:  5\n",
      "Unique Products ordered:  1\n",
      "Percentage of Unique Products Ordered: 20.0 %\n"
     ]
    }
   ],
   "source": [
    "#4/5\n",
    "\n",
    "\n",
    "def calculate_order_statistics(customer_orders, products):\n",
    "    total_products_order = len(products)\n",
    "    print(\"Order statistics:\")\n",
    "    print(\"Total products ordered: \", total_products_order)\n",
    "    unique_obj = len(customer_orders)\n",
    "    print(\"Unique Products ordered: \", unique_obj)\n",
    "    perct_unique_obj = len(customer_orders) / len(products) * 100\n",
    "    print(\"Percentage of Unique Products Ordered:\", perct_unique_obj,\"%\")\n",
    "    return\n",
    "\n",
    "calculate_order_statistics(customer_orders, products)\n"
   ]
  },
  {
   "cell_type": "code",
   "execution_count": 6,
   "id": "af721bac",
   "metadata": {},
   "outputs": [
    {
     "name": "stdout",
     "output_type": "stream",
     "text": [
      "{'tshirts': 3, 'mugs': 1, 'hats': 3, 'books': 3, 'keychains': 3}\n"
     ]
    }
   ],
   "source": [
    "# 6\n",
    "\n",
    "\n",
    "\n",
    "def print_updated_inventory(inventory):\n",
    "    substraction_value = 1\n",
    "    for key in customer_orders:\n",
    "        inventory[key] -= substraction_value\n",
    "    print(inventory)\n",
    "    return\n",
    "\n",
    "\n",
    "print_updated_inventory(inventory)\n",
    "\n"
   ]
  },
  {
   "cell_type": "code",
   "execution_count": 7,
   "id": "79cc24dc",
   "metadata": {},
   "outputs": [
    {
     "name": "stdout",
     "output_type": "stream",
     "text": [
      "how many tshirts are there?3\n",
      "how many mugs are there?3\n",
      "how many hats are there?3\n",
      "how many books are there?3\n",
      "how many keychains are there?3\n",
      "{'tshirts': 3, 'mugs': 3, 'hats': 3, 'books': 3, 'keychains': 3}\n",
      "would you like to place an order?yes\n",
      "what would that be: mugs, books, keychains, hats or tshirts?hats\n",
      "would you like to place an order?yes\n",
      "what would that be: mugs, books, keychains, hats or tshirts?hats\n",
      "would you like to place an order?no\n",
      "we'll help you checkout now. thanks!\n",
      "{'mugs', 'hats'}\n",
      "{'tshirts': 3, 'mugs': 2, 'hats': 2, 'books': 3, 'keychains': 3}\n",
      "Order statistics:\n",
      "Total products ordered:  5\n",
      "Unique Products ordered:  2\n",
      "Percentage of Unique Products Ordered: 40.0 %\n",
      "{'tshirts': 3, 'mugs': 1, 'hats': 1, 'books': 3, 'keychains': 3}\n"
     ]
    }
   ],
   "source": [
    "#7\n",
    "\n",
    "initialize_inventory(products)\n",
    "get_customer_orders()\n",
    "update_inventory(customer_orders, inventory)\n",
    "calculate_order_statistics(customer_orders, products)\n",
    "print_updated_inventory(inventory)"
   ]
  },
  {
   "cell_type": "code",
   "execution_count": null,
   "id": "81bdc735",
   "metadata": {},
   "outputs": [],
   "source": []
  },
  {
   "cell_type": "code",
   "execution_count": null,
   "id": "1c67090a",
   "metadata": {},
   "outputs": [],
   "source": []
  },
  {
   "cell_type": "code",
   "execution_count": null,
   "id": "5b2d1ff8",
   "metadata": {},
   "outputs": [],
   "source": []
  },
  {
   "cell_type": "code",
   "execution_count": null,
   "id": "516d0f3f",
   "metadata": {},
   "outputs": [],
   "source": []
  },
  {
   "cell_type": "code",
   "execution_count": null,
   "id": "3c1e6620",
   "metadata": {},
   "outputs": [],
   "source": []
  }
 ],
 "metadata": {
  "kernelspec": {
   "display_name": "Python 3 (ipykernel)",
   "language": "python",
   "name": "python3"
  },
  "language_info": {
   "codemirror_mode": {
    "name": "ipython",
    "version": 3
   },
   "file_extension": ".py",
   "mimetype": "text/x-python",
   "name": "python",
   "nbconvert_exporter": "python",
   "pygments_lexer": "ipython3",
   "version": "3.10.9"
  }
 },
 "nbformat": 4,
 "nbformat_minor": 5
}
