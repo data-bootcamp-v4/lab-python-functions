{
 "cells": [
  {
   "cell_type": "markdown",
   "id": "25d7736c-ba17-4aff-b6bb-66eba20fbf4e",
   "metadata": {},
   "source": [
    "# Lab | Functions"
   ]
  },
  {
   "cell_type": "markdown",
   "id": "0c581062-8967-4d93-b06e-62833222f930",
   "metadata": {
    "tags": []
   },
   "source": [
    "## Exercise: Managing Customer Orders with Functions\n",
    "\n",
    "In the previous exercise, you improved the code for managing customer orders by using loops and flow control. Now, let's take it a step further and refactor the code by introducing functions.\n",
    "\n",
    "Follow the steps below to complete the exercise:\n",
    "\n",
    "1. Define a function named `initialize_inventory` that takes `products` as a parameter. Inside the function, implement the code for initializing the inventory dictionary using a loop and user input.\n",
    "\n",
    "2. Define a function named `get_customer_orders` that takes no parameters. Inside the function, implement the code for prompting the user to enter the product names using a loop. The function should return the `customer_orders` set.\n",
    "\n",
    "3. Define a function named `update_inventory` that takes `customer_orders` and `inventory` as parameters. Inside the function, implement the code for updating the inventory dictionary based on the customer orders.\n",
    "\n",
    "4. Define a function named `calculate_order_statistics` that takes `customer_orders` and `products` as parameters. Inside the function, implement the code for calculating the order statistics (total products ordered, and percentage of unique products ordered). The function should return these values.\n",
    "\n",
    "5. Define a function named `print_order_statistics` that takes `order_statistics` as a parameter. Inside the function, implement the code for printing the order statistics.\n",
    "\n",
    "6. Define a function named `print_updated_inventory` that takes `inventory` as a parameter. Inside the function, implement the code for printing the updated inventory.\n",
    "\n",
    "7. Call the functions in the appropriate sequence to execute the program and manage customer orders.\n",
    "\n",
    "Hints for functions:\n",
    "\n",
    "- Consider the input parameters required for each function and their return values.\n",
    "- Utilize function parameters and return values to transfer data between functions.\n",
    "- Test your functions individually to ensure they work correctly.\n",
    "\n",
    "\n"
   ]
  },
  {
   "cell_type": "code",
   "execution_count": 74,
   "id": "e822c8ee-b1fe-4f19-9a12-b1ddfbae380f",
   "metadata": {},
   "outputs": [],
   "source": [
    "products = [\"t-shirt\", \"mug\", \"hat\", \"book\", \"keychain\"]\n",
    "#Define a function named initialize_inventory that takes products as a parameter\n",
    "def initialize_inventory(products):\n",
    "    inventory = {}  # Initialize an empty dictionary to store inventory\n",
    "    \n",
    "    for product in products:\n",
    "        # Prompt the user to enter the quantity for each product\n",
    "        quantity = int(input(f\"Enter the quantity of {product}: \"))\n",
    "        # Assign the quantity to the respective product key in the inventory dictionary\n",
    "        inventory[product] = quantity\n",
    "    \n",
    "    return inventory  # Return the initialized inventory dictionary"
   ]
  },
  {
   "cell_type": "code",
   "execution_count": 75,
   "id": "534e4553-1786-4092-aea5-f8ac9039c196",
   "metadata": {},
   "outputs": [
    {
     "name": "stdin",
     "output_type": "stream",
     "text": [
      "Enter the quantity of t-shirt:  3\n",
      "Enter the quantity of mug:  4\n",
      "Enter the quantity of hat:  5\n",
      "Enter the quantity of book:  6\n",
      "Enter the quantity of keychain:  7\n"
     ]
    },
    {
     "data": {
      "text/plain": [
       "{'t-shirt': 3, 'mug': 4, 'hat': 5, 'book': 6, 'keychain': 7}"
      ]
     },
     "execution_count": 75,
     "metadata": {},
     "output_type": "execute_result"
    }
   ],
   "source": [
    "initialize_inventory(products)"
   ]
  },
  {
   "cell_type": "code",
   "execution_count": 76,
   "id": "a437ead1-975c-4699-a5b7-e3677410202c",
   "metadata": {},
   "outputs": [],
   "source": [
    "#Define a function named get_customer_orders that takes no parameters. \n",
    "def get_customer_orders():\n",
    "    customer_orders = set()  # Initialize an empty set to store customer orders\n",
    "\n",
    "    customer_order = \"yes\"\n",
    "    while customer_order == \"yes\":  # Start an infinite loop\n",
    "        product_name = input(\"Enter the name of the product you want to order: \")\n",
    "        customer_orders.add(product_name)  # Add the product name to the set of customer orders\n",
    "        customer_order = input(\"Do you want to add another product? (yes/no): \")  # Ask the user if they want to add another product. If the user doesn't want to add another product, break the loop\n",
    "    \n",
    "    return customer_orders  # Return the set of customer orders"
   ]
  },
  {
   "cell_type": "code",
   "execution_count": 77,
   "id": "056d20f1-b119-4b34-a0cd-530a93b47162",
   "metadata": {},
   "outputs": [
    {
     "name": "stdin",
     "output_type": "stream",
     "text": [
      "Enter the name of the product you want to order:  hat\n",
      "Do you want to add another product? (yes/no):  yes\n",
      "Enter the name of the product you want to order:  book\n",
      "Do you want to add another product? (yes/no):  yes\n",
      "Enter the name of the product you want to order:  keychain\n",
      "Do you want to add another product? (yes/no):  no\n"
     ]
    },
    {
     "data": {
      "text/plain": [
       "{'book', 'hat', 'keychain'}"
      ]
     },
     "execution_count": 77,
     "metadata": {},
     "output_type": "execute_result"
    }
   ],
   "source": [
    "get_customer_orders()"
   ]
  },
  {
   "cell_type": "code",
   "execution_count": 78,
   "id": "3caf6555-6702-4406-9ebc-d396deaa536f",
   "metadata": {},
   "outputs": [],
   "source": [
    "#Define a function named update_inventory that takes customer_orders and inventory as parameters. \n",
    "def update_inventory(customer_orders, inventory):\n",
    "    \n",
    "    #Inside the function, implement the code for updating the inventory dictionary based on the customer orders.\n",
    "    for product in customer_orders: # Iterate over each item in the customer orders\n",
    "        if product in inventory.keys(): # Check if the item is present in the inventory\n",
    "           inventory[product]-=1 # Decrement the quantity of the item in the inventory by 1\n",
    "            \n",
    "    return inventory  # Return the set of update inventory"
   ]
  },
  {
   "cell_type": "code",
   "execution_count": 79,
   "id": "038b0e94-965a-4e59-8ea1-d69f3fb91010",
   "metadata": {},
   "outputs": [
    {
     "data": {
      "text/plain": [
       "{'t-shirt': 1, 'mug': 2, 'hat': 0, 'book': 2, 'keychain': 1}"
      ]
     },
     "execution_count": 79,
     "metadata": {},
     "output_type": "execute_result"
    }
   ],
   "source": [
    "update_inventory(customer_orders, inventory)"
   ]
  },
  {
   "cell_type": "code",
   "execution_count": 80,
   "id": "8f283472-f5da-4537-8577-aba54ff0d677",
   "metadata": {},
   "outputs": [],
   "source": [
    "def calculate_order_statistics(customer_orders, products):\n",
    "    total_products_ordered = len(customer_orders)  # Calculate the total number of products ordered\n",
    "    unique_products_ordered = len(set(customer_orders))  # Calculate the number of unique products ordered\n",
    "    \n",
    "    # Calculate the percentage of unique products ordered\n",
    "    percentage_unique_products_ordered = (unique_products_ordered / total_products_ordered) * 100\n",
    "    \n",
    "    return total_products_ordered, percentage_unique_products_ordered"
   ]
  },
  {
   "cell_type": "code",
   "execution_count": 81,
   "id": "46d7385b-956f-4b93-bad1-5138d62a4b47",
   "metadata": {},
   "outputs": [],
   "source": [
    "def print_order_statistics(order_statistics):\n",
    "    total_products_ordered, percentage_unique_products_ordered = order_statistics\n",
    "    \n",
    "    print(\"Order Statistics:\")\n",
    "    print(\"Total products ordered:\", total_products_ordered)\n",
    "    print(\"Percentage of unique products ordered:\", percentage_unique_products_ordered, \"%\")"
   ]
  },
  {
   "cell_type": "code",
   "execution_count": null,
   "id": "dd955fec-e5f4-40d7-be6a-e039f23cd9ac",
   "metadata": {},
   "outputs": [],
   "source": []
  },
  {
   "cell_type": "code",
   "execution_count": 45,
   "id": "8ad0b246-3d94-40ed-9bde-077f35fd2f3a",
   "metadata": {},
   "outputs": [
    {
     "name": "stdin",
     "output_type": "stream",
     "text": [
      "Enter the quantity of t-shirt:  8\n",
      "Enter the quantity of mug:  10\n",
      "Enter the quantity of hat:  7\n",
      "Enter the quantity of book:  5\n",
      "Enter the quantity of keychain:  8\n",
      "Enter the name of the product you want to order:  t-shirt\n",
      "Do you want to add another product? (yes/no):  yes\n",
      "Enter the name of the product you want to order:  book\n",
      "Do you want to add another product? (yes/no):  yes\n",
      "Enter the name of the product you want to order:  hat\n",
      "Do you want to add another product? (yes/no):  yes\n",
      "Enter the name of the product you want to order:  keychain\n",
      "Do you want to add another product? (yes/no):  no\n"
     ]
    },
    {
     "name": "stdout",
     "output_type": "stream",
     "text": [
      "Order Statistics:\n",
      "Total products ordered: 4\n",
      "Percentage of unique products ordered: 100.0 %\n"
     ]
    },
    {
     "ename": "NameError",
     "evalue": "name 'print_updated_inventory' is not defined",
     "output_type": "error",
     "traceback": [
      "\u001b[0;31m---------------------------------------------------------------------------\u001b[0m",
      "\u001b[0;31mNameError\u001b[0m                                 Traceback (most recent call last)",
      "Cell \u001b[0;32mIn[45], line 20\u001b[0m\n\u001b[1;32m     17\u001b[0m print_order_statistics(order_statistics)\n\u001b[1;32m     19\u001b[0m \u001b[38;5;66;03m# Step 6: Print updated inventory\u001b[39;00m\n\u001b[0;32m---> 20\u001b[0m print_updated_inventory(inventory)\n",
      "\u001b[0;31mNameError\u001b[0m: name 'print_updated_inventory' is not defined"
     ]
    }
   ],
   "source": [
    "# Define the list of products\n",
    "products = [\"t-shirt\", \"mug\", \"hat\", \"book\", \"keychain\"]\n",
    "\n",
    "# Step 1: Initialize the inventory\n",
    "inventory = initialize_inventory(products)\n",
    "\n",
    "# Step 2: Get customer orders\n",
    "customer_orders = get_customer_orders()\n",
    "\n",
    "# Step 3: Update inventory based on customer orders\n",
    "update_inventory(customer_orders, inventory)\n",
    "\n",
    "# Step 4: Calculate order statistics\n",
    "order_statistics = calculate_order_statistics(customer_orders, products)\n",
    "\n",
    "# Step 5: Print order statistics\n",
    "print_order_statistics(order_statistics)\n",
    "\n",
    "# Step 6: Print updated inventory\n",
    "print_updated_inventory(inventory)\n"
   ]
  }
 ],
 "metadata": {
  "kernelspec": {
   "display_name": "Python 3 (ipykernel)",
   "language": "python",
   "name": "python3"
  },
  "language_info": {
   "codemirror_mode": {
    "name": "ipython",
    "version": 3
   },
   "file_extension": ".py",
   "mimetype": "text/x-python",
   "name": "python",
   "nbconvert_exporter": "python",
   "pygments_lexer": "ipython3",
   "version": "3.11.7"
  }
 },
 "nbformat": 4,
 "nbformat_minor": 5
}
