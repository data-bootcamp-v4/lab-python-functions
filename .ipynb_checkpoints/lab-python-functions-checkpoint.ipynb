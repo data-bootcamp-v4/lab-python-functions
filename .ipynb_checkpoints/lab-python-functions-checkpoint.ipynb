{
 "cells": [
  {
   "cell_type": "markdown",
   "id": "25d7736c-ba17-4aff-b6bb-66eba20fbf4e",
   "metadata": {},
   "source": [
    "# Lab | Functions"
   ]
  },
  {
   "cell_type": "markdown",
   "id": "0c581062-8967-4d93-b06e-62833222f930",
   "metadata": {
    "tags": []
   },
   "source": [
    "## Exercise: Managing Customer Orders with Functions\n",
    "\n",
    "In the previous exercise, you improved the code for managing customer orders by using loops and flow control. Now, let's take it a step further and refactor the code by introducing functions.\n",
    "\n",
    "Follow the steps below to complete the exercise:\n",
    "\n",
    "1. Define a function named `initialize_inventory` that takes `products` as a parameter. Inside the function, implement the code for initializing the inventory dictionary using a loop and user input.\n",
    "\n",
    "2. Define a function named `get_customer_orders` that takes no parameters. Inside the function, implement the code for prompting the user to enter the product names using a loop. The function should return the `customer_orders` set.\n",
    "\n",
    "3. Define a function named `update_inventory` that takes `customer_orders` and `inventory` as parameters. Inside the function, implement the code for updating the inventory dictionary based on the customer orders.\n",
    "\n",
    "4. Define a function named `calculate_order_statistics` that takes `customer_orders` and `products` as parameters. Inside the function, implement the code for calculating the order statistics (total products ordered, and percentage of unique products ordered). The function should return these values.\n",
    "\n",
    "5. Define a function named `print_order_statistics` that takes `order_statistics` as a parameter. Inside the function, implement the code for printing the order statistics.\n",
    "\n",
    "6. Define a function named `print_updated_inventory` that takes `inventory` as a parameter. Inside the function, implement the code for printing the updated inventory.\n",
    "\n",
    "7. Call the functions in the appropriate sequence to execute the program and manage customer orders.\n",
    "\n",
    "Hints for functions:\n",
    "\n",
    "- Consider the input parameters required for each function and their return values.\n",
    "- Utilize function parameters and return values to transfer data between functions.\n",
    "- Test your functions individually to ensure they work correctly.\n",
    "\n",
    "\n"
   ]
  },
  {
   "cell_type": "code",
   "execution_count": 79,
   "id": "d05afc43-6bce-46f7-bba4-c848e66e1141",
   "metadata": {},
   "outputs": [
    {
     "name": "stdout",
     "output_type": "stream",
     "text": [
      "{}\n"
     ]
    }
   ],
   "source": [
    "products = [\"t-shirt\", \"mug\", \"hat\", \"book\", \"keychain\"]\n",
    "inventory = {}\n",
    "customer_orders = set()\n",
    "\n",
    "def initialize_inventory(products):\n",
    "    for product in products:\n",
    "        inventory[product] = int(input(f\"How many {product}s are there in the inventory? \"))\n",
    "    return(inventory)\n",
    "\n",
    "def get_customer_orders():\n",
    "    while True:\n",
    "        user_input = input(\"Please input the product that you would like to order: \")\n",
    "        if user_input in products:\n",
    "            customer_orders.add(user_input)\n",
    "        else:\n",
    "            print(\"That's not a valid product.\")\n",
    "            continue\n",
    "        while True:\n",
    "            user_choice = input(\"Would you like to order another item? (Y/N) \").lower()\n",
    "            if user_choice == 'n':\n",
    "                break\n",
    "            elif user_choice == 'y':\n",
    "                break\n",
    "            else:\n",
    "                print(\"Please enter 'Y' for yes or 'N' for no.\")\n",
    "                continue\n",
    "        if user_choice == \"n\":\n",
    "            break\n",
    "    return(customer_orders)\n",
    "\n",
    "def update_inventory(customer_orders, inventory):\n",
    "    for product in customer_orders:\n",
    "        inventory[product] -= 1\n",
    "    return inventory\n",
    "\n",
    "def calculate_order_statistics(customer_orders, products):\n",
    "    for product in customer_orders:\n",
    "        if inventory[product] == 0:\n",
    "            print(\"ERROR: One of the items you were trying to order is out of stock.\")\n",
    "        else:\n",
    "            total_ordered = len(customer_orders)\n",
    "            order_percentage = round(total_ordered / sum(inventory.values()) * 100, 2)\n",
    "    return [total_ordered, order_percentage]\n",
    "\n",
    "def print_updated_inventory(inventory):\n",
    "    print(f\"Order Statistics:\"\n",
    "          f\"\\nTotal Products Ordered: {total_ordered}\"\n",
    "          f\"\\nPercentage of Products Ordered: {order_percentage}%\"\n",
    "          f\"\\n\")    \n",
    "    for product, stock in inventory.items():\n",
    "        print(f\"{product}: {stock}\")"
   ]
  },
  {
   "cell_type": "code",
   "execution_count": 80,
   "id": "f4446da4-e99f-4ff3-a497-1e9697b85250",
   "metadata": {},
   "outputs": [
    {
     "name": "stdin",
     "output_type": "stream",
     "text": [
      "How many t-shirts are there in the inventory?  2\n",
      "How many mugs are there in the inventory?  2\n",
      "How many hats are there in the inventory?  2\n",
      "How many books are there in the inventory?  2\n",
      "How many keychains are there in the inventory?  2\n",
      "Please input the product that you would like to order:  mug\n",
      "Would you like to order another item? (Y/N)  n\n"
     ]
    },
    {
     "name": "stdout",
     "output_type": "stream",
     "text": [
      "Order Statistics:\n",
      "Total Products Ordered: 1\n",
      "Percentage of Products Ordered: 11.11%\n",
      "\n",
      "t-shirt: 2\n",
      "mug: 1\n",
      "hat: 2\n",
      "book: 2\n",
      "keychain: 2\n"
     ]
    }
   ],
   "source": [
    "initialize_inventory(products)\n",
    "get_customer_orders()\n",
    "update_inventory(customer_orders, inventory)\n",
    "calculate_order_statistics(customer_orders, products)\n",
    "total_ordered, order_percentage = calculate_order_statistics(customer_orders, inventory)\n",
    "print_updated_inventory(inventory)"
   ]
  }
 ],
 "metadata": {
  "kernelspec": {
   "display_name": "Python 3 (ipykernel)",
   "language": "python",
   "name": "python3"
  },
  "language_info": {
   "codemirror_mode": {
    "name": "ipython",
    "version": 3
   },
   "file_extension": ".py",
   "mimetype": "text/x-python",
   "name": "python",
   "nbconvert_exporter": "python",
   "pygments_lexer": "ipython3",
   "version": "3.11.5"
  }
 },
 "nbformat": 4,
 "nbformat_minor": 5
}
