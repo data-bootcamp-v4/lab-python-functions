{
 "cells": [
  {
   "cell_type": "markdown",
   "id": "25d7736c-ba17-4aff-b6bb-66eba20fbf4e",
   "metadata": {},
   "source": [
    "# Lab | Functions"
   ]
  },
  {
   "cell_type": "markdown",
   "id": "3008ad72-7aca-4bea-8f7b-1000a5941d69",
   "metadata": {
    "tags": []
   },
   "source": [
    "## Exercise: Managing Customer Orders with Functions\n",
    "\n",
    "In the previous exercise, you improved the code for managing customer orders by using loops and flow control. Now, let's take it a step further and refactor the code by introducing functions.\n",
    "\n",
    "Follow the steps below to complete the exercise:\n",
    "\n",
    "1. Define a function named `initialize_inventory` that takes `products` as a parameter. Inside the function, implement the code for initializing the inventory dictionary using a loop and user input.\n",
    "\n",
    "2. Define a function named `get_customer_orders` that takes no parameters. Inside the function, implement the code for prompting the user to enter the product names using a loop. The function should return the `customer_orders` set.\n",
    "\n",
    "3. Define a function named `update_inventory` that takes `customer_orders` and `inventory` as parameters. Inside the function, implement the code for updating the inventory dictionary based on the customer orders.\n",
    "\n",
    "4. Define a function named `calculate_order_statistics` that takes `customer_orders` and `products` as parameters. Inside the function, implement the code for calculating the order statistics (total products ordered, unique products ordered, and percentage of unique products ordered). The function should return these values.\n",
    "\n",
    "5. Define a function named `print_order_statistics` that takes `order_statistics` as a parameter. Inside the function, implement the code for printing the order statistics.\n",
    "\n",
    "6. Define a function named `print_updated_inventory` that takes `inventory` as a parameter. Inside the function, implement the code for printing the updated inventory.\n",
    "\n",
    "7. Call the functions in the appropriate sequence to execute the program and manage customer orders.\n",
    "\n",
    "Hints for functions:\n",
    "\n",
    "- Consider the input parameters required for each function and their return values.\n",
    "- Utilize function parameters and return values to transfer data between functions.\n",
    "- Test your functions individually to ensure they work correctly.\n",
    "\n",
    "\n"
   ]
  },
  {
   "cell_type": "code",
   "execution_count": 18,
   "id": "bf07c049",
   "metadata": {},
   "outputs": [],
   "source": [
    "# Define a function named initialize_inventory that takes products as a parameter. \n",
    "# Inside the function, implement the code for initializing the inventory dictionary using a loop and user input.\n",
    "\n",
    "### I need to return the inventory because it is not defined anywhere else\n",
    "\n",
    "def initialize_inventory(products):\n",
    "    inventory = {}\n",
    "    \n",
    "    for product in products:\n",
    "        while True:\n",
    "            try:\n",
    "                inventory[product] = int(input(f'Input quantity for item {product}: '))\n",
    "            except ValueError:\n",
    "                print('You must enter a valid integer.')\n",
    "                continue\n",
    "            else:\n",
    "                break\n",
    "\n",
    "    print('This is the complete inventory:\\n', inventory)\n",
    "    \n",
    "    return inventory"
   ]
  },
  {
   "cell_type": "code",
   "execution_count": 19,
   "id": "8bc3885a",
   "metadata": {},
   "outputs": [],
   "source": [
    "# Define a function named get_customer_orders that takes no parameters.\n",
    "# Inside the function, implement the code for prompting the user to enter the product names using a loop.\n",
    "# The function should return the customer_orders set.\n",
    "\n",
    "### Because of the way I do input check, my function takes the parameter 'inventory'\n",
    "\n",
    "def get_customer_orders(inventory):\n",
    "    customer_orders = set()\n",
    "    \n",
    "    print('Enter the name of the product that you want to add to your cart.')\n",
    "    print('Please note that the product must be in the inventory.')\n",
    "\n",
    "    add = 'y'\n",
    "\n",
    "    while add == 'y':\n",
    "        tmp = input('Add product to your cart:')\n",
    "        if tmp in inventory.keys():\n",
    "            customer_orders.add(tmp)\n",
    "            add = input('Do you want to add another one? (y/n)')\n",
    "        else:\n",
    "            print('Product not in inventory.')\n",
    "            continue\n",
    "\n",
    "    print('\\nThank you. Please find the list of items added to your cart:\\n', customer_orders)\n",
    "    \n",
    "    return customer_orders"
   ]
  },
  {
   "cell_type": "code",
   "execution_count": 25,
   "id": "e3610724",
   "metadata": {},
   "outputs": [],
   "source": [
    "# Define a function named update_inventory that takes customer_orders and inventory as parameters.\n",
    "# Inside the function, implement the code for updating the inventory dictionary based on the customer orders.\n",
    "\n",
    "### Need to return the updated inventory\n",
    "\n",
    "def update_inventory(customer_orders, inventory):\n",
    "\n",
    "    for k, v in inventory.items():\n",
    "        if k in customer_orders:\n",
    "            inventory[k] = int(v)-1\n",
    "    \n",
    "    return inventory"
   ]
  },
  {
   "cell_type": "code",
   "execution_count": 21,
   "id": "7e0fb04e",
   "metadata": {},
   "outputs": [],
   "source": [
    "# Define a function named calculate_order_statistics that takes customer_orders and products as parameters.\n",
    "# Inside the function, implement the code for calculating the order statistics (total products ordered,\n",
    "# unique products ordered, and percentage of unique products ordered). The function should return these values.\n",
    "\n",
    "def calculate_order_statistics(customer_orders, products):\n",
    "    tot_prod_ordered = len(customer_orders)\n",
    "    unique_prod_ordered = len(customer_orders)\n",
    "    pcg_unique_prod_ordered = (unique_prod_ordered/len(inventory.keys()))*100\n",
    "    \n",
    "    order_statistics = (tot_prod_ordered, unique_prod_ordered, pcg_unique_prod_ordered)\n",
    "    \n",
    "    return order_statistics"
   ]
  },
  {
   "cell_type": "code",
   "execution_count": 22,
   "id": "6bbba8be",
   "metadata": {},
   "outputs": [],
   "source": [
    "# Define a function named print_order_statistics that takes order_statistics as a parameter.\n",
    "# Inside the function, implement the code for printing the order statistics.\n",
    "\n",
    "def print_order_statistics(order_statistics):\n",
    "    print('Order statistics:')\n",
    "    print(f'Total products ordered: {order_statistics[0]}')\n",
    "    print(f'Unique products ordered: {order_statistics[1]}')\n",
    "    print(f'Percentage of unique products ordered: {order_statistics[2]}%')"
   ]
  },
  {
   "cell_type": "code",
   "execution_count": 23,
   "id": "edb0b0c8",
   "metadata": {},
   "outputs": [],
   "source": [
    "# Define a function named print_updated_inventory that takes inventory as a parameter.\n",
    "# Inside the function, implement the code for printing the updated inventory.\n",
    "\n",
    "def print_updated_inventory(inventory):\n",
    "    customer_orders = get_customer_orders(inventory)\n",
    "    updated_inventory = update_inventory(customer_orders, inventory)\n",
    "    \n",
    "    print('Updated inventory:\\n')\n",
    "    for k,v in updated_inventory.items():\n",
    "        print(k, v)"
   ]
  },
  {
   "cell_type": "code",
   "execution_count": 26,
   "id": "addb6299",
   "metadata": {},
   "outputs": [
    {
     "name": "stdout",
     "output_type": "stream",
     "text": [
      "Input quantity for item t-shirt: 2000\n",
      "Input quantity for item mug: 3000\n",
      "Input quantity for item hat: 4000\n",
      "Input quantity for item book: 10000\n",
      "Input quantity for item keychain: 5000\n",
      "This is the complete inventory:\n",
      " {'t-shirt': 2000, 'mug': 3000, 'hat': 4000, 'book': 10000, 'keychain': 5000}\n",
      "Enter the name of the product that you want to add to your cart.\n",
      "Please note that the product must be in the inventory.\n",
      "Add product to your cart:book\n",
      "Do you want to add another one? (y/n)y\n",
      "Add product to your cart:t-shirt\n",
      "Do you want to add another one? (y/n)n\n",
      "\n",
      "Thank you. Please find the list of items added to your cart:\n",
      " {'book', 't-shirt'}\n",
      "Updated inventory:\n",
      "\n",
      "t-shirt 1999\n",
      "mug 3000\n",
      "hat 4000\n",
      "book 9999\n",
      "keychain 5000\n"
     ]
    }
   ],
   "source": [
    "# Call the functions in the appropriate sequence to execute the program and manage customer orders.\n",
    "\n",
    "products = [\"t-shirt\", \"mug\", \"hat\", \"book\", \"keychain\"]\n",
    "inventory = initialize_inventory(products)\n",
    "print_updated_inventory(inventory)\n"
   ]
  },
  {
   "cell_type": "code",
   "execution_count": null,
   "id": "ec1a8a09",
   "metadata": {},
   "outputs": [],
   "source": []
  }
 ],
 "metadata": {
  "kernelspec": {
   "display_name": "Python 3 (ipykernel)",
   "language": "python",
   "name": "python3"
  },
  "language_info": {
   "codemirror_mode": {
    "name": "ipython",
    "version": 3
   },
   "file_extension": ".py",
   "mimetype": "text/x-python",
   "name": "python",
   "nbconvert_exporter": "python",
   "pygments_lexer": "ipython3",
   "version": "3.10.9"
  }
 },
 "nbformat": 4,
 "nbformat_minor": 5
}
