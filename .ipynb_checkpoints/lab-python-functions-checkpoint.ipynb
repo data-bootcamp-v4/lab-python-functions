{
 "cells": [
  {
   "cell_type": "markdown",
   "id": "25d7736c-ba17-4aff-b6bb-66eba20fbf4e",
   "metadata": {},
   "source": [
    "# Lab | Functions"
   ]
  },
  {
   "cell_type": "markdown",
   "id": "0c581062-8967-4d93-b06e-62833222f930",
   "metadata": {
    "tags": []
   },
   "source": [
    "## Exercise: Managing Customer Orders with Functions\n",
    "\n",
    "In the previous exercise, you improved the code for managing customer orders by using loops and flow control. Now, let's take it a step further and refactor the code by introducing functions.\n",
    "\n",
    "Follow the steps below to complete the exercise:\n",
    "\n",
    "1. Define a function named `initialize_inventory` that takes `products` as a parameter. Inside the function, implement the code for initializing the inventory dictionary using a loop and user input.\n",
    "\n",
    "2. Define a function named `get_customer_orders` that takes no parameters. Inside the function, implement the code for prompting the user to enter the product names using a loop. The function should return the `customer_orders` set.\n",
    "\n",
    "3. Define a function named `update_inventory` that takes `customer_orders` and `inventory` as parameters. Inside the function, implement the code for updating the inventory dictionary based on the customer orders.\n",
    "\n",
    "4. Define a function named `calculate_order_statistics` that takes `customer_orders` and `products` as parameters. Inside the function, implement the code for calculating the order statistics (total products ordered, and percentage of unique products ordered). The function should return these values.\n",
    "\n",
    "5. Define a function named `print_order_statistics` that takes `order_statistics` as a parameter. Inside the function, implement the code for printing the order statistics.\n",
    "\n",
    "6. Define a function named `print_updated_inventory` that takes `inventory` as a parameter. Inside the function, implement the code for printing the updated inventory.\n",
    "\n",
    "7. Call the functions in the appropriate sequence to execute the program and manage customer orders.\n",
    "\n",
    "Hints for functions:\n",
    "\n",
    "- Consider the input parameters required for each function and their return values.\n",
    "- Utilize function parameters and return values to transfer data between functions.\n",
    "- Test your functions individually to ensure they work correctly.\n",
    "\n",
    "\n"
   ]
  },
  {
   "cell_type": "code",
   "execution_count": null,
   "id": "9c2e86c8-5040-4986-b854-9851411799b7",
   "metadata": {},
   "outputs": [],
   "source": [
    "# Define a function named `initialize_inventory` that takes `products` as a parameter. \n",
    "#Inside the function, implement the code for initializing the inventory dictionary using a loop and user input."
   ]
  },
  {
   "cell_type": "code",
   "execution_count": 76,
   "id": "97df54ff-d29a-4fe9-9fc2-3ca5e7d5bc52",
   "metadata": {},
   "outputs": [],
   "source": [
    "products = [\"t-shirt\", \"mug\", \"hat\", \"book\", \"keychain\"]"
   ]
  },
  {
   "cell_type": "code",
   "execution_count": 77,
   "id": "ff23d364-b5e0-430e-8623-15da6309261c",
   "metadata": {},
   "outputs": [],
   "source": [
    "def initialize_inventory (products):\n",
    "    inventory = {}\n",
    "    \n",
    "    for product in products:\n",
    "        quantity = int(input(f\"Enter the quantity {product}: \"))\n",
    "        inventory[product] = quantity\n",
    "    return inventory"
   ]
  },
  {
   "cell_type": "code",
   "execution_count": 78,
   "id": "52480f44-330d-4f83-ac8e-b8f1e2dfb5fd",
   "metadata": {},
   "outputs": [
    {
     "name": "stdin",
     "output_type": "stream",
     "text": [
      "Enter the quantity t-shirt:  9\n",
      "Enter the quantity mug:  8\n",
      "Enter the quantity hat:  9\n",
      "Enter the quantity book:  7\n",
      "Enter the quantity keychain:  6\n"
     ]
    },
    {
     "data": {
      "text/plain": [
       "{'t-shirt': 9, 'mug': 8, 'hat': 9, 'book': 7, 'keychain': 6}"
      ]
     },
     "execution_count": 78,
     "metadata": {},
     "output_type": "execute_result"
    }
   ],
   "source": [
    "initialize_inventory(products)"
   ]
  },
  {
   "cell_type": "code",
   "execution_count": 79,
   "id": "84ca8ad3-4232-42fc-9f30-9a36fb8d26fb",
   "metadata": {},
   "outputs": [],
   "source": [
    "#Define a function named `get_customer_orders` that takes no parameters. \n",
    "#Inside the function, implement the code for prompting the user to enter the product names using a loop. \n",
    "#The function should return the `customer_orders` set.\n",
    "\n",
    "def get_customer_orders():\n",
    "    customer_orders = set()\n",
    "    customer_order=\"yes\"\n",
    "    while customer_order==\"yes\":\n",
    "        product_name=input(\"Enter the name of the product you want to order:\")\n",
    "        customer_orders.add(product_name)\n",
    "        customer_order=input(\"Do you want to add another product (yes/no)? \")\n",
    "    return customer_order\n"
   ]
  },
  {
   "cell_type": "code",
   "execution_count": 81,
   "id": "fe969a46-7ac4-48d3-bc66-11024e0fed03",
   "metadata": {},
   "outputs": [
    {
     "name": "stdin",
     "output_type": "stream",
     "text": [
      "Enter the name of the product you want to order: book\n",
      "Do you want to add another product (yes/no)?  yes\n",
      "Enter the name of the product you want to order: hat\n",
      "Do you want to add another product (yes/no)?  yes\n",
      "Enter the name of the product you want to order: mug\n",
      "Do you want to add another product (yes/no)?  no\n"
     ]
    },
    {
     "data": {
      "text/plain": [
       "'no'"
      ]
     },
     "execution_count": 81,
     "metadata": {},
     "output_type": "execute_result"
    }
   ],
   "source": [
    "get_customer_orders()"
   ]
  },
  {
   "cell_type": "code",
   "execution_count": 86,
   "id": "623a2449-726b-4152-a6d5-6006718a8b70",
   "metadata": {},
   "outputs": [
    {
     "name": "stdin",
     "output_type": "stream",
     "text": [
      "Enter the quantity t-shirt:  9\n",
      "Enter the quantity mug:  7\n",
      "Enter the quantity hat:  6\n",
      "Enter the quantity book:  8\n",
      "Enter the quantity keychain:  7\n",
      "Enter the name of the product you want to order: mug\n",
      "Do you want to add another product (yes/no)?  yes\n",
      "Enter the name of the product you want to order: book\n",
      "Do you want to add another product (yes/no)?  yes\n",
      "Enter the name of the product you want to order: no\n",
      "Do you want to add another product (yes/no)?  no\n"
     ]
    }
   ],
   "source": [
    "#Define a function named `update_inventory` that takes `customer_orders` and `inventory` as parameters.\n",
    "#Inside the function, implement the code for updating the inventory dictionary based on the customer orders.\n",
    "inventory=initialize_inventory(products)\n",
    "customer_orders = get_customer_orders()\n",
    "def update_inventory(customer_orders, inventory):\n",
    "\n",
    "    for order in customer_orders:\n",
    "        if order in inventory:\n",
    "            inventory[order]-=1\n",
    "    return inventory\n",
    "    "
   ]
  },
  {
   "cell_type": "code",
   "execution_count": 87,
   "id": "db02d308-a4bc-4ad2-a3c9-755644e7845e",
   "metadata": {},
   "outputs": [
    {
     "data": {
      "text/plain": [
       "{'t-shirt': 9, 'mug': 7, 'hat': 6, 'book': 8, 'keychain': 7}"
      ]
     },
     "execution_count": 87,
     "metadata": {},
     "output_type": "execute_result"
    }
   ],
   "source": [
    "update_inventory(customer_orders, inventory)"
   ]
  },
  {
   "cell_type": "code",
   "execution_count": 91,
   "id": "be8e69e0-cdac-4d28-871e-ce5678d8d542",
   "metadata": {},
   "outputs": [],
   "source": [
    "#Define a function named `calculate_order_statistics` that takes `customer_orders` and `products` as parameters. \n",
    "#Inside the function, implement the code for calculating the order statistics (total products ordered, and percentage of unique products ordered). \n",
    "#The function should return these values.\n",
    "def calculate_order_statistics(customer_orders, products):\n",
    "    inventory_quantity=sum(inventory.values())\n",
    "    total_products_ordered = sum(len(products) for products in customer_orders)\n",
    "    percentage_products_ordered = (total_products_ordered/inventory_quantity) * 100\n",
    "    return total_products_ordered, percentage_products_ordered"
   ]
  },
  {
   "cell_type": "code",
   "execution_count": 92,
   "id": "d651ec74-4d60-46b6-ab6e-fa65cc8dabcb",
   "metadata": {},
   "outputs": [
    {
     "data": {
      "text/plain": [
       "(2, 5.405405405405405)"
      ]
     },
     "execution_count": 92,
     "metadata": {},
     "output_type": "execute_result"
    }
   ],
   "source": [
    "calculate_order_statistics(customer_orders, products)"
   ]
  },
  {
   "cell_type": "code",
   "execution_count": 98,
   "id": "a55f84b3-01b7-4e49-9dd9-90137d8ac627",
   "metadata": {},
   "outputs": [],
   "source": [
    "#Define a function named `print_order_statistics` that takes `order_statistics` as a parameter. \n",
    "#Inside the function, implement the code for printing the order statistics.\n",
    "def print_order_statistics(calculate_order_statistics):\n",
    "    inventory_quantity = sum(inventory.values())\n",
    "    total_products_ordered = len(customer_orders)\n",
    "    percentage_products_ordered = (total_products_ordered/inventory_quantity)* 100\n",
    "    return total_products_ordered, percentage_products_ordered"
   ]
  },
  {
   "cell_type": "code",
   "execution_count": 100,
   "id": "89eb2283-307a-451a-9e1e-f0d063a2dfc8",
   "metadata": {},
   "outputs": [
    {
     "data": {
      "text/plain": [
       "(2, 5.405405405405405)"
      ]
     },
     "execution_count": 100,
     "metadata": {},
     "output_type": "execute_result"
    }
   ],
   "source": [
    "print_order_statistics(calculate_order_statistics)"
   ]
  },
  {
   "cell_type": "code",
   "execution_count": 102,
   "id": "8c2fef79-2cd0-4080-804e-5051708933bc",
   "metadata": {},
   "outputs": [],
   "source": [
    "#Define a function named `print_updated_inventory` that takes `inventory` as a parameter. \n",
    "#Inside the function, implement the code for printing the updated inventory.\n",
    "def print_updated_inventory(inventory):\n",
    "    return inventory"
   ]
  },
  {
   "cell_type": "code",
   "execution_count": 103,
   "id": "d40b62c7-247f-4823-bb43-28f9a74a88ad",
   "metadata": {},
   "outputs": [
    {
     "data": {
      "text/plain": [
       "{'t-shirt': 9, 'mug': 7, 'hat': 6, 'book': 8, 'keychain': 7}"
      ]
     },
     "execution_count": 103,
     "metadata": {},
     "output_type": "execute_result"
    }
   ],
   "source": [
    "print_updated_inventory(inventory)"
   ]
  },
  {
   "cell_type": "code",
   "execution_count": null,
   "id": "3d414ae8-ffbe-4645-b0b2-1e75bb0aa7ed",
   "metadata": {},
   "outputs": [],
   "source": [
    "#Call the functions in the appropriate sequence to execute the program and manage customer orders.\n",
    "initialize_inventory(products)\n",
    "get_customer_orders()\n",
    "update_inventory(customer_orders, inventory)\n",
    "calculate_order_statistics(customer_orders, products)\n",
    "print_order_statistics(calculate_order_statistics)\n",
    "print_updated_inventory(inventory)"
   ]
  }
 ],
 "metadata": {
  "kernelspec": {
   "display_name": "Python 3 (ipykernel)",
   "language": "python",
   "name": "python3"
  },
  "language_info": {
   "codemirror_mode": {
    "name": "ipython",
    "version": 3
   },
   "file_extension": ".py",
   "mimetype": "text/x-python",
   "name": "python",
   "nbconvert_exporter": "python",
   "pygments_lexer": "ipython3",
   "version": "3.11.7"
  }
 },
 "nbformat": 4,
 "nbformat_minor": 5
}
