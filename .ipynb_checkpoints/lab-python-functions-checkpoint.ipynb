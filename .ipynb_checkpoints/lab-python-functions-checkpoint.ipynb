{
 "cells": [
  {
   "cell_type": "markdown",
   "id": "25d7736c-ba17-4aff-b6bb-66eba20fbf4e",
   "metadata": {},
   "source": [
    "# Lab | Functions"
   ]
  },
  {
   "cell_type": "markdown",
   "id": "3008ad72-7aca-4bea-8f7b-1000a5941d69",
   "metadata": {
    "tags": []
   },
   "source": [
    "## Exercise: Managing Customer Orders with Functions\n",
    "\n",
    "In the previous exercise, you improved the code for managing customer orders by using loops and flow control. Now, let's take it a step further and refactor the code by introducing functions.\n",
    "\n",
    "Follow the steps below to complete the exercise:\n",
    "\n",
    "1. Define a function named `initialize_inventory` that takes `products` as a parameter. Inside the function, implement the code for initializing the inventory dictionary using a loop and user input.\n",
    "\n",
    "2. Define a function named `get_customer_orders` that takes no parameters. Inside the function, implement the code for prompting the user to enter the product names using a loop. The function should return the `customer_orders` set.\n",
    "\n",
    "3. Define a function named `update_inventory` that takes `customer_orders` and `inventory` as parameters. Inside the function, implement the code for updating the inventory dictionary based on the customer orders.\n",
    "\n",
    "4. Define a function named `calculate_order_statistics` that takes `customer_orders` and `products` as parameters. Inside the function, implement the code for calculating the order statistics (total products ordered, unique products ordered, and percentage of unique products ordered). The function should return these values.\n",
    "\n",
    "5. Define a function named `print_order_statistics` that takes `order_statistics` as a parameter. Inside the function, implement the code for printing the order statistics.\n",
    "\n",
    "6. Define a function named `print_updated_inventory` that takes `inventory` as a parameter. Inside the function, implement the code for printing the updated inventory.\n",
    "\n",
    "7. Call the functions in the appropriate sequence to execute the program and manage customer orders.\n",
    "\n",
    "Hints for functions:\n",
    "\n",
    "- Consider the input parameters required for each function and their return values.\n",
    "- Utilize function parameters and return values to transfer data between functions.\n",
    "- Test your functions individually to ensure they work correctly.\n",
    "\n",
    "\n"
   ]
  },
  {
   "cell_type": "code",
   "execution_count": 1,
   "id": "d8ca1f74",
   "metadata": {},
   "outputs": [],
   "source": [
    "# 1. Define a function named initialize_inventory that takes products as a parameter. Inside the function, implement the code for initializing the inventory dictionary using a loop and user input.\n",
    "\n",
    "def initialize_inventory(products):\n",
    "    inventory = {}\n",
    "    for product in products:\n",
    "        quantity = int(input(f\"Please enter the number of {product}s:\"))\n",
    "        inventory[product] = quantity\n",
    "    return inventory"
   ]
  },
  {
   "cell_type": "code",
   "execution_count": 2,
   "id": "82f35cf8",
   "metadata": {},
   "outputs": [],
   "source": [
    "products = [\"t-shirt\", \"mug\", \"hat\", \"book\", \"keychain\"]"
   ]
  },
  {
   "cell_type": "code",
   "execution_count": 3,
   "id": "f912a564",
   "metadata": {},
   "outputs": [
    {
     "name": "stdout",
     "output_type": "stream",
     "text": [
      "Please enter the number of t-shirts:6\n",
      "Please enter the number of mugs:6\n",
      "Please enter the number of hats:6\n",
      "Please enter the number of books:6\n",
      "Please enter the number of keychains:6\n"
     ]
    }
   ],
   "source": [
    "inventory = initialize_inventory(products)"
   ]
  },
  {
   "cell_type": "code",
   "execution_count": 4,
   "id": "a3f024b6",
   "metadata": {},
   "outputs": [],
   "source": [
    "# 2. Define a function named get_customer_orders that takes no parameters. Inside the function, implement the code for prompting the user to enter the product names using a loop. The function should return the customer_orders set.\n",
    "\n",
    "def get_customer_orders():\n",
    "    customer_orders = set()\n",
    "    customer_response = input(\"Would you like to order a product, yes or no?:\")\n",
    "    while customer_response == \"yes\":\n",
    "        product = input(\"Please enter the name of the product to be ordered:\")\n",
    "        customer_orders.add(product)\n",
    "        customer_response = input(\"Would you like to order another product, yes or no?:\")\n",
    "    return customer_orders"
   ]
  },
  {
   "cell_type": "code",
   "execution_count": 5,
   "id": "207c815d",
   "metadata": {},
   "outputs": [
    {
     "name": "stdout",
     "output_type": "stream",
     "text": [
      "Would you like to order a product, yes or no?:yes\n",
      "Please enter the name of the product to be ordered:book\n",
      "Would you like to order another product, yes or no?:yes\n",
      "Please enter the name of the product to be ordered:hat\n",
      "Would you like to order another product, yes or no?:yes\n",
      "Please enter the name of the product to be ordered:mug\n",
      "Would you like to order another product, yes or no?:no\n"
     ]
    }
   ],
   "source": [
    "customer_orders = get_customer_orders()"
   ]
  },
  {
   "cell_type": "code",
   "execution_count": 6,
   "id": "d7b5aca8",
   "metadata": {},
   "outputs": [],
   "source": [
    "# 3. Define a function named update_inventory that takes customer_orders and inventory as parameters. Inside the function, implement the code for updating the inventory dictionary based on the customer orders.\n",
    "\n",
    "def update_inventory(customer_orders,inventory):\n",
    "    for product in customer_orders:\n",
    "        inventory[product] -= 1\n",
    "    return inventory"
   ]
  },
  {
   "cell_type": "code",
   "execution_count": 7,
   "id": "f2e7f927",
   "metadata": {},
   "outputs": [
    {
     "name": "stdout",
     "output_type": "stream",
     "text": [
      "{'t-shirt': 6, 'mug': 5, 'hat': 5, 'book': 5, 'keychain': 6}\n"
     ]
    }
   ],
   "source": [
    "inventory = update_inventory(customer_orders, inventory)\n",
    "print(inventory)"
   ]
  },
  {
   "cell_type": "code",
   "execution_count": 8,
   "id": "1cfbd2da",
   "metadata": {},
   "outputs": [
    {
     "data": {
      "text/plain": [
       "(3, 3, '60.0%')"
      ]
     },
     "execution_count": 8,
     "metadata": {},
     "output_type": "execute_result"
    }
   ],
   "source": [
    "# 4. Define a function named calculate_order_statistics that takes customer_orders and products as parameters. Inside the function, implement the code for calculating the order statistics (total products ordered, unique products ordered, and percentage of unique products ordered). The function should return these values.\n",
    "\n",
    "def calculate_order_statistics(customer_orders,products):\n",
    "    return len(customer_orders), len(set(customer_orders)), f\"{len(set(customer_orders))/len(products)*100}%\" \n",
    "\n",
    "calculate_order_statistics(customer_orders,products)"
   ]
  },
  {
   "cell_type": "code",
   "execution_count": 9,
   "id": "1ac5b9ee",
   "metadata": {},
   "outputs": [],
   "source": [
    "\n",
    "order_statistics = calculate_order_statistics(customer_orders,products)\n"
   ]
  },
  {
   "cell_type": "code",
   "execution_count": 10,
   "id": "3569f402",
   "metadata": {},
   "outputs": [
    {
     "name": "stdout",
     "output_type": "stream",
     "text": [
      "Order Statistics:\n",
      "Total Products Ordered: 3\n",
      "Unique Products Ordered: 3\n",
      "Percentage of Unique Products Ordered: 60.0 %\n"
     ]
    }
   ],
   "source": [
    "# 5. Define a function named print_order_statistics that takes order_statistics as a parameter. Inside the function, implement the code for printing the order statistics.\n",
    "\n",
    "def print_order_statistics(order_statistics) :\n",
    "    print(\"Order Statistics:\\nTotal Products Ordered:\",len(customer_orders))\n",
    "    print(\"Unique Products Ordered:\",len(customer_orders))\n",
    "    print(\"Percentage of Unique Products Ordered:\",len(customer_orders)/len(products)*100,\"%\")\n",
    "    \n",
    "print_order_statistics(order_statistics)"
   ]
  },
  {
   "cell_type": "code",
   "execution_count": 11,
   "id": "293362ee",
   "metadata": {},
   "outputs": [
    {
     "name": "stdout",
     "output_type": "stream",
     "text": [
      "{'t-shirt': 6, 'mug': 5, 'hat': 5, 'book': 5, 'keychain': 6}\n"
     ]
    }
   ],
   "source": [
    "# 6. Define a function named print_updated_inventory that takes inventory as a parameter. Inside the function, implement the code for printing the updated inventory.\n",
    "\n",
    "def print_updated_inventory(inventory):\n",
    "    print(inventory) \n",
    "\n",
    "print_updated_inventory(inventory)"
   ]
  }
 ],
 "metadata": {
  "kernelspec": {
   "display_name": "Python 3 (ipykernel)",
   "language": "python",
   "name": "python3"
  },
  "language_info": {
   "codemirror_mode": {
    "name": "ipython",
    "version": 3
   },
   "file_extension": ".py",
   "mimetype": "text/x-python",
   "name": "python",
   "nbconvert_exporter": "python",
   "pygments_lexer": "ipython3",
   "version": "3.10.9"
  }
 },
 "nbformat": 4,
 "nbformat_minor": 5
}
