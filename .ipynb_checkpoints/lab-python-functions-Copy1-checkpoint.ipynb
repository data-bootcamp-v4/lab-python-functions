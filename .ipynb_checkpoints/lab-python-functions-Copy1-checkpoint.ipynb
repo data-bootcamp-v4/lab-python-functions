{
 "cells": [
  {
   "cell_type": "markdown",
   "id": "25d7736c-ba17-4aff-b6bb-66eba20fbf4e",
   "metadata": {},
   "source": [
    "# Lab | Functions"
   ]
  },
  {
   "cell_type": "markdown",
   "id": "3008ad72-7aca-4bea-8f7b-1000a5941d69",
   "metadata": {
    "tags": []
   },
   "source": [
    "## Exercise: Managing Customer Orders with Functions\n",
    "\n",
    "In the previous exercise, you improved the code for managing customer orders by using loops and flow control. Now, let's take it a step further and refactor the code by introducing functions.\n",
    "\n",
    "Follow the steps below to complete the exercise:\n",
    "\n",
    "1. Define a function named `initialize_inventory` that takes `products` as a parameter. Inside the function, implement the code for initializing the inventory dictionary using a loop and user input.\n",
    "\n",
    "2. Define a function named `get_customer_orders` that takes no parameters. Inside the function, implement the code for prompting the user to enter the product names using a loop. The function should return the `customer_orders` set.\n",
    "\n",
    "3. Define a function named `update_inventory` that takes `customer_orders` and `inventory` as parameters. Inside the function, implement the code for updating the inventory dictionary based on the customer orders.\n",
    "\n",
    "4. Define a function named `calculate_order_statistics` that takes `customer_orders` and `products` as parameters. Inside the function, implement the code for calculating the order statistics (total products ordered, unique products ordered, and percentage of unique products ordered). The function should return these values.\n",
    "\n",
    "5. Define a function named `print_order_statistics` that takes `order_statistics` as a parameter. Inside the function, implement the code for printing the order statistics.\n",
    "\n",
    "6. Define a function named `print_updated_inventory` that takes `inventory` as a parameter. Inside the function, implement the code for printing the updated inventory.\n",
    "\n",
    "7. Call the functions in the appropriate sequence to execute the program and manage customer orders.\n",
    "\n",
    "Hints for functions:\n",
    "\n",
    "- Consider the input parameters required for each function and their return values.\n",
    "- Utilize function parameters and return values to transfer data between functions.\n",
    "- Test your functions individually to ensure they work correctly.\n",
    "\n",
    "\n"
   ]
  },
  {
   "cell_type": "code",
   "execution_count": 14,
   "id": "d1485125",
   "metadata": {},
   "outputs": [
    {
     "name": "stdout",
     "output_type": "stream",
     "text": [
      "how many tshirts would you like?3\n",
      "how many mugs would you like?4\n",
      "how many hats would you like?5\n",
      "how many books would you like?6\n",
      "how many keychains would you like?7\n",
      "{'tshirts': 3, 'mugs': 4, 'hats': 5, 'books': 6, 'keychains': 7}\n"
     ]
    }
   ],
   "source": [
    "#1\n",
    "\n",
    "products = ['tshirt', 'mug', 'hat', 'book', 'keychain']\n",
    "\n",
    "def initialize_inventory(products):\n",
    "    inventory = {}\n",
    "    for product in range(len(products)):\n",
    "        tshirts = int(input(\"how many tshirts are there?\"))\n",
    "        inventory['tshirts'] = tshirts\n",
    "        mugs = int(input(\"how many mugs are there?\"))\n",
    "        inventory['mugs'] = mugs\n",
    "        hats = int(input(\"how many hats are there?\"))\n",
    "        inventory['hats'] = hats\n",
    "        books = int(input(\"how many books are there?\"))\n",
    "        inventory['books'] = books\n",
    "        keychains = int(input(\"how many keychains are there?\"))\n",
    "        inventory['keychains'] = keychains\n",
    "        break\n",
    "    print(inventory)\n",
    "    return\n",
    "\n",
    "initialize_inventory(products)"
   ]
  },
  {
   "cell_type": "code",
   "execution_count": 1,
   "id": "80fb0860",
   "metadata": {},
   "outputs": [
    {
     "name": "stdout",
     "output_type": "stream",
     "text": [
      "would you like to place an order?yes\n",
      "what would that be: a mug, a book, a keychain, a hat or a tshirt?book\n",
      "would you like to place an order?yes\n",
      "what would that be: a mug, a book, a keychain, a hat or a tshirt?hat\n",
      "would you like to place an order?no\n",
      "we'll help you checkout now. thanks!\n",
      "{'hat', 'book'}\n"
     ]
    },
    {
     "data": {
      "text/plain": [
       "{'book', 'hat'}"
      ]
     },
     "execution_count": 1,
     "metadata": {},
     "output_type": "execute_result"
    }
   ],
   "source": [
    "#### 2\n",
    "\n",
    "def get_customer_orders():\n",
    "    costumer_orders = set()\n",
    "    costumer2 = input('would you like to place an order?')\n",
    "    while costumer2 == \"yes\":\n",
    "        costumer3 = input('what would that be: mugs, books, keychains, hats or tshirts?')\n",
    "        costumer_orders.add(costumer3)\n",
    "        costumer2 = input('would you like to place an order?')\n",
    "    else:\n",
    "        print(\"we'll help you checkout now. thanks!\")\n",
    "        print(costumer_orders)\n",
    "    return customer_orders\n",
    "\n",
    "get_customer_orders()\n",
    "             \n",
    "    \n"
   ]
  },
  {
   "cell_type": "code",
   "execution_count": 7,
   "id": "00b221d0",
   "metadata": {},
   "outputs": [
    {
     "name": "stdout",
     "output_type": "stream",
     "text": [
      "{'tshirts': 3, 'mugs': 4, 'hats': 4, 'books': 5, 'keychains': 7}\n"
     ]
    }
   ],
   "source": [
    "#3\n",
    "\n",
    "customer_orders = {'books', 'hats'}\n",
    "inventory = {'tshirts': 3, 'mugs': 4, 'hats': 5, 'books': 6, 'keychains': 7}\n",
    "\n",
    "def update_inventory(customer_orders, inventory):\n",
    "    substraction_value = 1\n",
    "    for key in inventory:\n",
    "        if key in customer_orders:  \n",
    "            inventory[key] -= substraction_value\n",
    "    print(inventory)\n",
    "    return\n",
    "\n",
    "update_inventory(customer_orders, inventory)"
   ]
  },
  {
   "cell_type": "code",
   "execution_count": null,
   "id": "4169cde9",
   "metadata": {},
   "outputs": [],
   "source": []
  },
  {
   "cell_type": "code",
   "execution_count": null,
   "id": "9a6f00b1",
   "metadata": {},
   "outputs": [],
   "source": []
  }
 ],
 "metadata": {
  "kernelspec": {
   "display_name": "Python 3 (ipykernel)",
   "language": "python",
   "name": "python3"
  },
  "language_info": {
   "codemirror_mode": {
    "name": "ipython",
    "version": 3
   },
   "file_extension": ".py",
   "mimetype": "text/x-python",
   "name": "python",
   "nbconvert_exporter": "python",
   "pygments_lexer": "ipython3",
   "version": "3.10.9"
  }
 },
 "nbformat": 4,
 "nbformat_minor": 5
}
