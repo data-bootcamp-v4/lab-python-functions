{
 "cells": [
  {
   "attachments": {},
   "cell_type": "markdown",
   "id": "25d7736c-ba17-4aff-b6bb-66eba20fbf4e",
   "metadata": {},
   "source": [
    "# Lab | Functions"
   ]
  },
  {
   "attachments": {},
   "cell_type": "markdown",
   "id": "3008ad72-7aca-4bea-8f7b-1000a5941d69",
   "metadata": {
    "tags": []
   },
   "source": [
    "## Exercise: Managing Customer Orders with Functions\n",
    "\n",
    "In the previous exercise, you improved the code for managing customer orders by using loops and flow control. Now, let's take it a step further and refactor the code by introducing functions.\n",
    "\n",
    "Follow the steps below to complete the exercise:\n",
    "\n",
    "1. Define a function named `initialize_inventory` that takes `products` as a parameter. Inside the function, implement the code for initializing the inventory dictionary using a loop and user input.\n",
    "\n",
    "2. Define a function named `get_customer_orders` that takes no parameters. Inside the function, implement the code for prompting the user to enter the product names using a loop. The function should return the `customer_orders` set.\n",
    "\n",
    "3. Define a function named `update_inventory` that takes `customer_orders` and `inventory` as parameters. Inside the function, implement the code for updating the inventory dictionary based on the customer orders.\n",
    "\n",
    "4. Define a function named `calculate_order_statistics` that takes `customer_orders` and `products` as parameters. Inside the function, implement the code for calculating the order statistics (total products ordered, unique products ordered, and percentage of unique products ordered). The function should return these values.\n",
    "\n",
    "5. Define a function named `print_order_statistics` that takes `order_statistics` as a parameter. Inside the function, implement the code for printing the order statistics.\n",
    "\n",
    "6. Define a function named `print_updated_inventory` that takes `inventory` as a parameter. Inside the function, implement the code for printing the updated inventory.\n",
    "\n",
    "7. Call the functions in the appropriate sequence to execute the program and manage customer orders.\n",
    "\n",
    "Hints for functions:\n",
    "\n",
    "- Consider the input parameters required for each function and their return values.\n",
    "- Utilize function parameters and return values to transfer data between functions.\n",
    "- Test your functions individually to ensure they work correctly."
   ]
  },
  {
   "attachments": {},
   "cell_type": "markdown",
   "id": "6a20f3a0",
   "metadata": {},
   "source": [
    "### Q1"
   ]
  },
  {
   "cell_type": "code",
   "execution_count": 17,
   "id": "bd735f13",
   "metadata": {},
   "outputs": [
    {
     "name": "stdout",
     "output_type": "stream",
     "text": [
      "Which qunatity of t-shirt do you want ?\n",
      "Which qunatity of mug do you want ?\n",
      "Which qunatity of hat do you want ?\n",
      "Which qunatity of book do you want ?\n",
      "Which qunatity of keychain do you want ?\n"
     ]
    }
   ],
   "source": [
    "def initialize_inventory(products) :\n",
    "    inventory = dict()\n",
    "\n",
    "    for i in products :\n",
    "        print(\"Which qunatity of\", i, \"do you want ?\")\n",
    "        inventory[i] = int(input())\n",
    "\n",
    "    return inventory\n",
    "\n",
    "\n",
    "products = [\"t-shirt\", \"mug\", \"hat\", \"book\", \"keychain\"]\n",
    "inventory = initialize_inventory(products)"
   ]
  },
  {
   "attachments": {},
   "cell_type": "markdown",
   "id": "47bd7c82",
   "metadata": {},
   "source": [
    "### Q2"
   ]
  },
  {
   "cell_type": "code",
   "execution_count": 15,
   "id": "f6b6b67f",
   "metadata": {},
   "outputs": [
    {
     "name": "stdout",
     "output_type": "stream",
     "text": [
      "Enter de product that you want to buy :\n",
      "Do you want to add another product ? (Y/N)\n",
      "Enter de product that you want to buy :\n",
      "Do you want to add another product ? (Y/N)\n"
     ]
    }
   ],
   "source": [
    "def get_customer_orders() :\n",
    "    customer_orders = set()\n",
    "\n",
    "    while True :\n",
    "            print(\"Enter de product that you want to buy :\")\n",
    "            customer_orders.add(input())\n",
    "\n",
    "            print(\"Do you want to add another product ? (Y/N)\")\n",
    "            answer = input()\n",
    "            if answer !='Y' :\n",
    "                break\n",
    "    return customer_orders\n",
    "\n",
    "customer_orders = get_customer_orders()"
   ]
  },
  {
   "attachments": {},
   "cell_type": "markdown",
   "id": "bd832f65",
   "metadata": {},
   "source": [
    "### Q3"
   ]
  },
  {
   "cell_type": "code",
   "execution_count": 18,
   "id": "122281cd",
   "metadata": {},
   "outputs": [],
   "source": [
    "def update_inventory(customer_orders,inventory) :\n",
    "    for i in customer_orders :\n",
    "        inventory[i] -= 1\n",
    "\n",
    "update_inventory(customer_orders,inventory)"
   ]
  },
  {
   "attachments": {},
   "cell_type": "markdown",
   "id": "8c10b0c0",
   "metadata": {},
   "source": [
    "### Q4"
   ]
  },
  {
   "cell_type": "code",
   "execution_count": 22,
   "id": "9a9697a0",
   "metadata": {},
   "outputs": [],
   "source": [
    "def calculate_order_statistics(customer_orders,products) :\n",
    "    total_products_order = len(customer_orders)\n",
    "    unique_products_order = len(customer_orders)\n",
    "    unique_percent = unique_products_order/len(products) * 100\n",
    "\n",
    "    order_statistics = (total_products_order,unique_products_order,unique_percent)\n",
    "    return order_statistics\n",
    "\n",
    "order_statistics = calculate_order_statistics(customer_orders, products)"
   ]
  },
  {
   "attachments": {},
   "cell_type": "markdown",
   "id": "6fd4ac76",
   "metadata": {},
   "source": [
    "### Q5"
   ]
  },
  {
   "cell_type": "code",
   "execution_count": 23,
   "id": "4bdaea87",
   "metadata": {},
   "outputs": [
    {
     "name": "stdout",
     "output_type": "stream",
     "text": [
      "Order Statistics: \n",
      "Total Products Ordered: 2 \n",
      "Unique Products Ordered: 2 \n",
      "Percentage of Unique Products Ordered: 40.0\n"
     ]
    }
   ],
   "source": [
    "def print_order_statistics(order_statistics) :\n",
    "    print(\"Order Statistics: \\nTotal Products Ordered:\", order_statistics[0],\"\\nUnique Products Ordered:\" , order_statistics[1],\"\\nPercentage of Unique Products Ordered:\", order_statistics[2])\n",
    "\n",
    "print_order_statistics(order_statistics)"
   ]
  },
  {
   "attachments": {},
   "cell_type": "markdown",
   "id": "ec0d8939",
   "metadata": {},
   "source": [
    "### Q6"
   ]
  },
  {
   "cell_type": "code",
   "execution_count": 28,
   "id": "a66b8737",
   "metadata": {},
   "outputs": [
    {
     "name": "stdout",
     "output_type": "stream",
     "text": [
      "t-shirt : 3\n",
      "mug : 2\n",
      "hat : 3\n",
      "book : 1\n",
      "keychain : 3\n"
     ]
    }
   ],
   "source": [
    "def print_updated_inventory(inventory) :\n",
    "    [print(key,':',value-1) for key, value in inventory.items()]\n",
    "\n",
    "print_updated_inventory(inventory)"
   ]
  }
 ],
 "metadata": {
  "kernelspec": {
   "display_name": "Python 3 (ipykernel)",
   "language": "python",
   "name": "python3"
  },
  "language_info": {
   "codemirror_mode": {
    "name": "ipython",
    "version": 3
   },
   "file_extension": ".py",
   "mimetype": "text/x-python",
   "name": "python",
   "nbconvert_exporter": "python",
   "pygments_lexer": "ipython3",
   "version": "3.10.10"
  }
 },
 "nbformat": 4,
 "nbformat_minor": 5
}
