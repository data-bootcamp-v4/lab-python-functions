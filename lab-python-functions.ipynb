{
 "cells": [
  {
   "cell_type": "markdown",
   "id": "25d7736c-ba17-4aff-b6bb-66eba20fbf4e",
   "metadata": {},
   "source": [
    "# Lab | Functions"
   ]
  },
  {
   "cell_type": "markdown",
   "id": "3008ad72-7aca-4bea-8f7b-1000a5941d69",
   "metadata": {
    "tags": []
   },
   "source": [
    "## Exercise: Managing Customer Orders with Functions\n",
    "\n",
    "In the previous exercise, you improved the code for managing customer orders by using loops and flow control. Now, let's take it a step further and refactor the code by introducing functions.\n",
    "\n",
    "Follow the steps below to complete the exercise:\n",
    "\n",
    "1. Define a function named `initialize_inventory` that takes `products` as a parameter. Inside the function, implement the code for initializing the inventory dictionary using a loop and user input.\n",
    "\n",
    "2. Define a function named `get_customer_orders` that takes no parameters. Inside the function, implement the code for prompting the user to enter the product names using a loop. The function should return the `customer_orders` set.\n",
    "\n",
    "3. Define a function named `update_inventory` that takes `customer_orders` and `inventory` as parameters. Inside the function, implement the code for updating the inventory dictionary based on the customer orders.\n",
    "\n",
    "4. Define a function named `calculate_order_statistics` that takes `customer_orders` and `products` as parameters. Inside the function, implement the code for calculating the order statistics (total products ordered, unique products ordered, and percentage of unique products ordered). The function should return these values.\n",
    "\n",
    "5. Define a function named `print_order_statistics` that takes `order_statistics` as a parameter. Inside the function, implement the code for printing the order statistics.\n",
    "\n",
    "6. Define a function named `print_updated_inventory` that takes `inventory` as a parameter. Inside the function, implement the code for printing the updated inventory.\n",
    "\n",
    "7. Call the functions in the appropriate sequence to execute the program and manage customer orders.\n",
    "\n",
    "Hints for functions:\n",
    "\n",
    "- Consider the input parameters required for each function and their return values.\n",
    "- Utilize function parameters and return values to transfer data between functions.\n",
    "- Test your functions individually to ensure they work correctly.\n",
    "\n",
    "\n"
   ]
  },
  {
   "cell_type": "code",
   "execution_count": 1,
   "id": "615d314e",
   "metadata": {},
   "outputs": [
    {
     "name": "stdout",
     "output_type": "stream",
     "text": [
      "Enter the quantity of t-shirt: 9\n",
      "Enter the quantity of mug: 9\n",
      "Enter the quantity of hat: 9\n",
      "Enter the quantity of book: 9\n",
      "Enter the quantity of keychain: 9\n",
      "{'t-shirt': 9, 'mug': 9, 'hat': 9, 'book': 9, 'keychain': 9}\n"
     ]
    }
   ],
   "source": [
    "# Define a function named initialize_inventory that takes products as a parameter. \n",
    "# Inside the function, implement the code for initializing the inventory dictionary using a loop and user input.\n",
    "products = [\"t-shirt\", \"mug\", \"hat\", \"book\", \"keychain\"]\n",
    "\n",
    "def initialize_inventory(products): \n",
    "    inventory = {}\n",
    "    for key in products:\n",
    "        while True:\n",
    "            user_input = input(f\"Enter the quantity of {key}: \")\n",
    "            if user_input.isdigit():\n",
    "                inventory[key] = int(user_input)\n",
    "                break\n",
    "            else:\n",
    "                print(\"Please enter a valid number.\")\n",
    "    \n",
    "    print(inventory)\n",
    "    return inventory\n",
    "\n",
    "inventory = initialize_inventory(products)"
   ]
  },
  {
   "cell_type": "code",
   "execution_count": 2,
   "id": "c5afe83d",
   "metadata": {
    "scrolled": true
   },
   "outputs": [
    {
     "name": "stdout",
     "output_type": "stream",
     "text": [
      "Do you want to order something? yes\n",
      "What do you want to order? book\n",
      "Do you want to order something else? yes\n",
      "What do you want to order? hat\n",
      "Do you want to order something else? no\n",
      "Thank you! See you next week\n",
      "{'hat', 'book'}\n"
     ]
    }
   ],
   "source": [
    "# Define a function named get_customer_orders that takes no parameters. \n",
    "# Inside the function, implement the code for prompting the user to enter the product names using a loop. \n",
    "# The function should return the customer_orders set.\n",
    "\n",
    "def get_customer_orders():    \n",
    "    customer_orders = set()\n",
    "    customer_input = input(\"Do you want to order something? \")\n",
    "    \n",
    "    while customer_input ==  \"yes\":\n",
    "        customer_input_1 = input(\"What do you want to order? \")\n",
    "        customer_orders.add(customer_input_1)\n",
    "        customer_input = input(\"Do you want to order something else? \")\n",
    "    else:\n",
    "        print(\"Thank you! See you next week\") \n",
    "\n",
    "    print(customer_orders)\n",
    "    return customer_orders\n",
    "\n",
    "customer_orders = get_customer_orders()"
   ]
  },
  {
   "cell_type": "code",
   "execution_count": 3,
   "id": "95a08dab",
   "metadata": {},
   "outputs": [
    {
     "data": {
      "text/plain": [
       "{'t-shirt': 9, 'mug': 9, 'hat': 8, 'book': 8, 'keychain': 9}"
      ]
     },
     "execution_count": 3,
     "metadata": {},
     "output_type": "execute_result"
    }
   ],
   "source": [
    "# Define a function named update_inventory that takes customer_orders and inventory as parameters. \n",
    "# Inside the function, implement the code for updating the inventory dictionary based on the customer orders.\n",
    "\n",
    "def update_inventory(customer_orders, inventory):\n",
    "    substraction_value = 1\n",
    "    for key in inventory:\n",
    "        if key in customer_orders:\n",
    "            inventory[key] -= substraction_value\n",
    "\n",
    "    \n",
    "    return inventory\n",
    "    \n",
    "update_inventory(customer_orders, inventory)"
   ]
  },
  {
   "cell_type": "code",
   "execution_count": 4,
   "id": "8f92ee50",
   "metadata": {},
   "outputs": [],
   "source": [
    "# Define a function named calculate_order_statistics that takes customer_orders and products as parameters. \n",
    "# Inside the function, implement the code for calculating the order statistics \n",
    "# (total products ordered, unique products ordered, and percentage of unique products ordered). \n",
    "# The function should return these values.\n",
    "\n",
    "def calculate_order_statistics(customer_orders, products):\n",
    "    total_products_ordered = len(customer_orders)\n",
    "    unique_set = set()\n",
    "    for order in customer_orders:\n",
    "        if order not in unique_set:\n",
    "            unique_set.update(customer_orders)  \n",
    "    percentage_unique_products = (len(unique_set) / total_products_ordered) * 100\n",
    "    \n",
    "    order_statistics = {\n",
    "                        \"total_products_ordered\" : total_products_ordered,\n",
    "                        \"unique_set\" : unique_set,\n",
    "                        \"percentage_unique_products\" : percentage_unique_products,\n",
    "                       }\n",
    "    \n",
    "    return order_statistics\n",
    "\n",
    "order_statistics = calculate_order_statistics(customer_orders, products)"
   ]
  },
  {
   "cell_type": "code",
   "execution_count": 5,
   "id": "0ebf4dea",
   "metadata": {},
   "outputs": [
    {
     "name": "stdout",
     "output_type": "stream",
     "text": [
      "Total number of products ordered is: 2\n",
      "The unique products are: {'hat', 'book'}\n",
      "The percentage of unique products ordered is: 100.0\n"
     ]
    }
   ],
   "source": [
    "# Define a function named print_order_statistics that takes order_statistics as a parameter. \n",
    "# Inside the function, implement the code for printing the order statistics.\n",
    "\n",
    "def print_order_statistics(order_statistics):\n",
    "    \n",
    "    print(f\"Total number of products ordered is: {order_statistics['total_products_ordered']}\")\n",
    "    print(f\"The unique products are: {order_statistics['unique_set']}\")\n",
    "    print(f\"The percentage of unique products ordered is: {order_statistics['percentage_unique_products']}\")\n",
    "                                                       \n",
    "    return\n",
    "                                                       \n",
    "print_order_statistics(order_statistics)    "
   ]
  },
  {
   "cell_type": "code",
   "execution_count": 7,
   "id": "01b60969",
   "metadata": {},
   "outputs": [
    {
     "name": "stdout",
     "output_type": "stream",
     "text": [
      "Here is the updated inventory: {'t-shirt': 9, 'mug': 9, 'hat': 7, 'book': 7, 'keychain': 9}\n"
     ]
    }
   ],
   "source": [
    "# Define a function named print_updated_inventory that takes inventory as a parameter. \n",
    "# Inside the function, implement the code for printing the updated inventory.\n",
    "\n",
    "def print_updated_invenotry(inventory):\n",
    "    \n",
    "    print(f\"Here is the updated inventory: {update_inventory(customer_orders, inventory)}\")\n",
    "    \n",
    "    return\n",
    "\n",
    "print_updated_invenotry(inventory)"
   ]
  },
  {
   "cell_type": "code",
   "execution_count": 11,
   "id": "f770fd9c",
   "metadata": {},
   "outputs": [
    {
     "name": "stdout",
     "output_type": "stream",
     "text": [
      "Enter the quantity of t-shirt: 7\n",
      "Enter the quantity of mug: 7\n",
      "Enter the quantity of hat: 7\n",
      "Enter the quantity of book: 7\n",
      "Enter the quantity of keychain: 7\n",
      "{'t-shirt': 7, 'mug': 7, 'hat': 7, 'book': 7, 'keychain': 7}\n",
      "Do you want to order something? yes\n",
      "What do you want to order? book\n",
      "Do you want to order something else? yes\n",
      "What do you want to order? hat\n",
      "Do you want to order something else? no\n",
      "Thank you! See you next week\n",
      "{'hat', 'book'}\n",
      "Total number of products ordered is: 2\n",
      "The unique products are: {'hat', 'book'}\n",
      "The percentage of unique products ordered is: 100.0\n",
      "Here is the updated inventory: {'t-shirt': 9, 'mug': 9, 'hat': 3, 'book': 3, 'keychain': 9}\n"
     ]
    }
   ],
   "source": [
    "# Call the functions in the appropriate sequence to execute the program and manage customer orders.\n",
    "\n",
    "initialize_inventory(products)\n",
    "get_customer_orders()\n",
    "update_inventory(customer_orders, inventory)\n",
    "calculate_order_statistics(customer_orders, products)\n",
    "print_order_statistics(order_statistics)\n",
    "print_updated_invenotry(inventory)"
   ]
  }
 ],
 "metadata": {
  "kernelspec": {
   "display_name": "Python 3 (ipykernel)",
   "language": "python",
   "name": "python3"
  },
  "language_info": {
   "codemirror_mode": {
    "name": "ipython",
    "version": 3
   },
   "file_extension": ".py",
   "mimetype": "text/x-python",
   "name": "python",
   "nbconvert_exporter": "python",
   "pygments_lexer": "ipython3",
   "version": "3.10.9"
  }
 },
 "nbformat": 4,
 "nbformat_minor": 5
}
