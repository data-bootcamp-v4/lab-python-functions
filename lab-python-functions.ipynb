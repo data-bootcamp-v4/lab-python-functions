{
 "cells": [
  {
   "attachments": {},
   "cell_type": "markdown",
   "id": "25d7736c-ba17-4aff-b6bb-66eba20fbf4e",
   "metadata": {},
   "source": [
    "# Lab | Functions"
   ]
  },
  {
   "attachments": {},
   "cell_type": "markdown",
   "id": "3008ad72-7aca-4bea-8f7b-1000a5941d69",
   "metadata": {
    "tags": []
   },
   "source": [
    "## Exercise: Managing Customer Orders with Functions\n",
    "\n",
    "In the previous exercise, you improved the code for managing customer orders by using loops and flow control. Now, let's take it a step further and refactor the code by introducing functions.\n",
    "\n",
    "Follow the steps below to complete the exercise:\n",
    "\n",
    "1. Define a function named `initialize_inventory` that takes `products` as a parameter. Inside the function, implement the code for initializing the inventory dictionary using a loop and user input.\n",
    "\n",
    "2. Define a function named `get_customer_orders` that takes no parameters. Inside the function, implement the code for prompting the user to enter the product names using a loop. The function should return the `customer_orders` set.\n",
    "\n",
    "3. Define a function named `update_inventory` that takes `customer_orders` and `inventory` as parameters. Inside the function, implement the code for updating the inventory dictionary based on the customer orders.\n",
    "\n",
    "4. Define a function named `calculate_order_statistics` that takes `customer_orders` and `products` as parameters. Inside the function, implement the code for calculating the order statistics (total products ordered, unique products ordered, and percentage of unique products ordered). The function should return these values.\n",
    "\n",
    "5. Define a function named `print_order_statistics` that takes `order_statistics` as a parameter. Inside the function, implement the code for printing the order statistics.\n",
    "\n",
    "6. Define a function named `print_updated_inventory` that takes `inventory` as a parameter. Inside the function, implement the code for printing the updated inventory.\n",
    "\n",
    "7. Call the functions in the appropriate sequence to execute the program and manage customer orders.\n",
    "\n",
    "Hints for functions:\n",
    "\n",
    "- Consider the input parameters required for each function and their return values.\n",
    "- Utilize function parameters and return values to transfer data between functions.\n",
    "- Test your functions individually to ensure they work correctly.\n",
    "\n",
    "\n"
   ]
  },
  {
   "cell_type": "code",
   "execution_count": 80,
   "id": "e6599498",
   "metadata": {},
   "outputs": [
    {
     "data": {
      "text/plain": [
       "{'t-shirt': 9, 'mug': 9, 'hat': 9, 'book': 9, 'keychain': 9}"
      ]
     },
     "execution_count": 80,
     "metadata": {},
     "output_type": "execute_result"
    }
   ],
   "source": [
    "Products = [\"t-shirt\", \"mug\", \"hat\", \"book\", \"keychain\"]\n",
    "Inventory = {}\n",
    "\n",
    "def initialize_inventory(products):\n",
    "    for i in Products:\n",
    "        Q = int(input(\"enter: \"))\n",
    "        Inventory[i] = Q\n",
    "    return Inventory\n",
    "     \n",
    "\n",
    "\n",
    "initialize_inventory(Products)\n",
    "\n",
    "\n"
   ]
  },
  {
   "cell_type": "code",
   "execution_count": 81,
   "id": "34963bb0",
   "metadata": {},
   "outputs": [
    {
     "data": {
      "text/plain": [
       "('Customer orders:', {'hat', 'mug'})"
      ]
     },
     "execution_count": 81,
     "metadata": {},
     "output_type": "execute_result"
    }
   ],
   "source": [
    " customer_orders = set()\n",
    "\n",
    "def get_customer_orders():\n",
    "\n",
    "   \n",
    "    pc = input(\"Enter the product name : \")\n",
    "    customer_orders.add(pc)\n",
    "    ask = input(\"Do you want to add another product? (yes/no): \")\n",
    "\n",
    "\n",
    "    while ask == \"yes\":\n",
    "\n",
    "        pc= input(\"Enter the name of another product that the customer wants to order: \")\n",
    "\n",
    "        customer_orders.add(pc)\n",
    "\n",
    "        ask = input(\"Do you want to add another product? (yes/no): \")\n",
    "\n",
    "    return \"Customer orders:\", customer_orders\n",
    "\n",
    "get_customer_orders()\n",
    "\n",
    "\n"
   ]
  },
  {
   "cell_type": "code",
   "execution_count": 82,
   "id": "fb7e464f",
   "metadata": {},
   "outputs": [
    {
     "data": {
      "text/plain": [
       "{'t-shirt': 9, 'mug': 8, 'hat': 8, 'book': 9, 'keychain': 9}"
      ]
     },
     "execution_count": 82,
     "metadata": {},
     "output_type": "execute_result"
    }
   ],
   "source": [
    "customer_orders\n",
    "\n",
    "def update_inventory(c,i):\n",
    "    s = 1\n",
    "\n",
    "    for key in Inventory:\n",
    "        if key in customer_orders: \n",
    "            Inventory[key] -= s\n",
    "    return Inventory\n",
    "    \n",
    "update_inventory(customer_orders,Inventory )\n",
    "\n"
   ]
  },
  {
   "cell_type": "code",
   "execution_count": 96,
   "id": "8bff161a",
   "metadata": {},
   "outputs": [
    {
     "name": "stdout",
     "output_type": "stream",
     "text": [
      "[2, 2, 43]\n"
     ]
    },
    {
     "data": {
      "text/plain": [
       "(2, 2, 4.65)"
      ]
     },
     "execution_count": 96,
     "metadata": {},
     "output_type": "execute_result"
    }
   ],
   "source": [
    "order_statistics = list()\n",
    "\n",
    "def calculate_order_statistics(co,p):\n",
    "\n",
    "    total_products_ordered = len(customer_orders)\n",
    "\n",
    "    unique_products_ordered = len(customer_orders)\n",
    "\n",
    "    total_available_products = total_sum = sum(Inventory.values())\n",
    "\n",
    "    percentage_unique_products_ordered = (unique_products_ordered / total_available_products) * 100\n",
    "\n",
    "    order_statistics.append( total_products_ordered)\n",
    "    order_statistics.append( unique_products_ordered)\n",
    "    order_statistics.append( sum(Inventory.values()))\n",
    "\n",
    "    print(order_statistics)\n",
    "\n",
    "    return total_products_ordered, unique_products_ordered, round(percentage_unique_products_ordered,2)\n",
    "    \n",
    "    \n",
    "\n",
    "calculate_order_statistics(customer_orders,Products)\n",
    "\n",
    "\n",
    "\n",
    "\n",
    "\n",
    "\n",
    "\n",
    "\n",
    "\n"
   ]
  },
  {
   "cell_type": "code",
   "execution_count": 97,
   "id": "1424411f",
   "metadata": {},
   "outputs": [
    {
     "name": "stdout",
     "output_type": "stream",
     "text": [
      "Total Products Ordered: 2\n",
      "Unique Products Ordered: 2\n",
      "Percentage of Unique Products Ordered: 43 %\n"
     ]
    }
   ],
   "source": [
    "order_statistics\n",
    "\n",
    "def print_order_statistics(order_statistics):\n",
    "   \n",
    "    print(\"Total Products Ordered:\",order_statistics[0])\n",
    "    print(\"Unique Products Ordered:\", order_statistics[1])\n",
    "    print(\"Percentage of Unique Products Ordered:\", order_statistics[2], \"%\")\n",
    "    \n",
    "\n",
    "print_order_statistics(order_statistics)\n",
    "\n",
    "\n",
    "\n",
    "\n",
    "\n",
    "\n"
   ]
  },
  {
   "cell_type": "code",
   "execution_count": 98,
   "id": "6469dd10",
   "metadata": {},
   "outputs": [
    {
     "name": "stdout",
     "output_type": "stream",
     "text": [
      "{'t-shirt': 9, 'mug': 8, 'hat': 8, 'book': 9, 'keychain': 9}\n"
     ]
    }
   ],
   "source": [
    "def print_updated_inventory(update_inventory):\n",
    "    print(update_inventory)\n",
    "\n",
    "print_updated_inventory(Inventory)\n",
    "\n",
    "\n",
    "\n"
   ]
  },
  {
   "cell_type": "code",
   "execution_count": null,
   "id": "4102d174",
   "metadata": {},
   "outputs": [],
   "source": []
  }
 ],
 "metadata": {
  "kernelspec": {
   "display_name": "Python 3 (ipykernel)",
   "language": "python",
   "name": "python3"
  },
  "language_info": {
   "codemirror_mode": {
    "name": "ipython",
    "version": 3
   },
   "file_extension": ".py",
   "mimetype": "text/x-python",
   "name": "python",
   "nbconvert_exporter": "python",
   "pygments_lexer": "ipython3",
   "version": "3.11.4"
  }
 },
 "nbformat": 4,
 "nbformat_minor": 5
}
