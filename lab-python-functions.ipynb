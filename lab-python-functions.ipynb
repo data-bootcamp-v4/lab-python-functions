{
 "cells": [
  {
   "cell_type": "markdown",
   "id": "25d7736c-ba17-4aff-b6bb-66eba20fbf4e",
   "metadata": {},
   "source": [
    "# Lab | Functions"
   ]
  },
  {
   "cell_type": "markdown",
   "id": "3008ad72-7aca-4bea-8f7b-1000a5941d69",
   "metadata": {
    "tags": []
   },
   "source": [
    "## Exercise: Managing Customer Orders with Functions\n",
    "\n",
    "In the previous exercise, you improved the code for managing customer orders by using loops and flow control. Now, let's take it a step further and refactor the code by introducing functions.\n",
    "\n",
    "Follow the steps below to complete the exercise:\n",
    "\n",
    "1. Define a function named `initialize_inventory` that takes `products` as a parameter. Inside the function, implement the code for initializing the inventory dictionary using a loop and user input.\n",
    "\n",
    "2. Define a function named `get_customer_orders` that takes no parameters. Inside the function, implement the code for prompting the user to enter the product names using a loop. The function should return the `customer_orders` set.\n",
    "\n",
    "3. Define a function named `update_inventory` that takes `customer_orders` and `inventory` as parameters. Inside the function, implement the code for updating the inventory dictionary based on the customer orders.\n",
    "\n",
    "4. Define a function named `calculate_order_statistics` that takes `customer_orders` and `products` as parameters. Inside the function, implement the code for calculating the order statistics (total products ordered, unique products ordered, and percentage of unique products ordered). The function should return these values.\n",
    "\n",
    "5. Define a function named `print_order_statistics` that takes `order_statistics` as a parameter. Inside the function, implement the code for printing the order statistics.\n",
    "\n",
    "6. Define a function named `print_updated_inventory` that takes `inventory` as a parameter. Inside the function, implement the code for printing the updated inventory.\n",
    "\n",
    "7. Call the functions in the appropriate sequence to execute the program and manage customer orders.\n",
    "\n",
    "Hints for functions:\n",
    "\n",
    "- Consider the input parameters required for each function and their return values.\n",
    "- Utilize function parameters and return values to transfer data between functions.\n",
    "- Test your functions individually to ensure they work correctly.\n",
    "\n",
    "\n"
   ]
  },
  {
   "cell_type": "code",
   "execution_count": 40,
   "id": "bd82e81c",
   "metadata": {},
   "outputs": [],
   "source": [
    "inventory={}\n",
    "customer_orders = set()\n",
    "def initialize_inventory(products):\n",
    "    for product in products:\n",
    "        quantity= int(input(f\"Enter the quantity of {product}:\"))\n",
    "        inventory[product] = quantity\n",
    "    return inventory"
   ]
  },
  {
   "cell_type": "code",
   "execution_count": 41,
   "id": "28cb9f68",
   "metadata": {},
   "outputs": [],
   "source": [
    "def get_custormer_orders():\n",
    "    answer = \"yes\"\n",
    "    user_input = input(\"Do you want to order another produtc? (yes or no): \")\n",
    "    \n",
    "    while True:\n",
    "        new_order = input(\"Add the name you want to order: \")\n",
    "        if new_order in products:\n",
    "            customer_orders.add(new_order)\n",
    "            if input(\"Do you want to order another produtc? (yes or no): \") == \"yes\":\n",
    "                continue\n",
    "            else:\n",
    "                break\n",
    "        else:\n",
    "            print(\"Please enter a valid product name\")\n",
    "    return customer_orders"
   ]
  },
  {
   "cell_type": "code",
   "execution_count": 42,
   "id": "d773baec",
   "metadata": {},
   "outputs": [],
   "source": [
    "def update_inventory(customer_orders,inventory):\n",
    "    for product in inventory:\n",
    "        if product in customer_orders:\n",
    "            inventory[product] -= 1\n",
    "    return inventory"
   ]
  },
  {
   "cell_type": "code",
   "execution_count": 55,
   "id": "5727233a",
   "metadata": {},
   "outputs": [],
   "source": [
    " #calcular total dos produtos pedidos, \n",
    "  # total de produtos únicos pedidos,\n",
    "  # % de produtos únicos pedidos \n",
    "def calculated_order_statistics(customer_orders, products):\n",
    "    total_products_order = len(customer_orders)\n",
    "    unique_product= 0\n",
    "    for i in customer_orders:\n",
    "        unique_product += inventory[i]\n",
    "        inventory_stock=0\n",
    "    for i in inventory:\n",
    "        inventory_stock += inventory[i]\n",
    "        percent = unique_product/inventory_stock*100\n",
    "        percent = (round(percent,2))\n",
    "        return percent, unique_product, total_products_order\n",
    "  #return all the values"
   ]
  },
  {
   "cell_type": "code",
   "execution_count": 105,
   "id": "b990c8e6",
   "metadata": {},
   "outputs": [],
   "source": [
    "order_statistics = calculated_order_statistics\n",
    "def print_order_statistics(order_statistics):\n",
    "        total_prod = len(customer_orders)\n",
    "        unique_prod = 0\n",
    "        for i in customer_orders:\n",
    "            unique_prod += inventory[i]\n",
    "        inventory_stash = 0\n",
    "        for i in inventory:\n",
    "            inventory_stash += inventory[i]\n",
    "        percent = unique_prod/inventory_stash*100\n",
    "        percent = (round(percent,2))\n",
    "        print (f\"Order Statistics: Total Products Ordered:\", total_prod) \n",
    "        print (\"Unique Products Ordered:\" ,unique_prod) \n",
    "        print (\"Percentage of Unique Products Ordered:\",percent,'%')"
   ]
  },
  {
   "cell_type": "code",
   "execution_count": 108,
   "id": "93e17999",
   "metadata": {},
   "outputs": [],
   "source": [
    "def print_updated_inventory(inventory):\n",
    "    for keys, values in inventory.items():\n",
    "        print(keys.capitalize(), values)"
   ]
  },
  {
   "cell_type": "code",
   "execution_count": 46,
   "id": "f858e7fa",
   "metadata": {},
   "outputs": [
    {
     "data": {
      "text/plain": [
       "['t-shirt', 'mug', 'hat', 'book', 'keychain']"
      ]
     },
     "execution_count": 46,
     "metadata": {},
     "output_type": "execute_result"
    }
   ],
   "source": [
    "products =[\"t-shirt\", \"mug\", \"hat\", \"book\", \"keychain\"]\n",
    "products"
   ]
  },
  {
   "cell_type": "code",
   "execution_count": 47,
   "id": "b1d7b7aa",
   "metadata": {},
   "outputs": [
    {
     "name": "stdout",
     "output_type": "stream",
     "text": [
      "Enter the quantity of t-shirt:19\n",
      "Enter the quantity of mug:2\n",
      "Enter the quantity of hat:3\n",
      "Enter the quantity of book:4\n",
      "Enter the quantity of keychain:1\n"
     ]
    },
    {
     "data": {
      "text/plain": [
       "{'t-shirt': 19, 'mug': 2, 'hat': 3, 'book': 4, 'keychain': 1}"
      ]
     },
     "execution_count": 47,
     "metadata": {},
     "output_type": "execute_result"
    }
   ],
   "source": [
    "initialize_inventory(products)"
   ]
  },
  {
   "cell_type": "code",
   "execution_count": 48,
   "id": "96455bd9",
   "metadata": {},
   "outputs": [
    {
     "name": "stdout",
     "output_type": "stream",
     "text": [
      "Do you want to order another produtc? (yes or no): yes\n",
      "Add the name you want to order: book\n",
      "Do you want to order another produtc? (yes or no): yes\n",
      "Add the name you want to order: muh\n",
      "Please enter a valid product name\n",
      "Add the name you want to order: mug\n",
      "Do you want to order another produtc? (yes or no): no\n"
     ]
    },
    {
     "data": {
      "text/plain": [
       "{'book', 'mug'}"
      ]
     },
     "execution_count": 48,
     "metadata": {},
     "output_type": "execute_result"
    }
   ],
   "source": [
    "get_custormer_orders()"
   ]
  },
  {
   "cell_type": "code",
   "execution_count": 49,
   "id": "82cb1123",
   "metadata": {},
   "outputs": [
    {
     "data": {
      "text/plain": [
       "{'t-shirt': 19, 'mug': 1, 'hat': 3, 'book': 3, 'keychain': 1}"
      ]
     },
     "execution_count": 49,
     "metadata": {},
     "output_type": "execute_result"
    }
   ],
   "source": [
    "update_inventory(customer_orders,inventory)"
   ]
  },
  {
   "cell_type": "code",
   "execution_count": 56,
   "id": "6b9ea35a",
   "metadata": {},
   "outputs": [
    {
     "data": {
      "text/plain": [
       "(21.05, 4, 2)"
      ]
     },
     "execution_count": 56,
     "metadata": {},
     "output_type": "execute_result"
    }
   ],
   "source": [
    "calculated_order_statistics(customer_orders, products)"
   ]
  },
  {
   "cell_type": "code",
   "execution_count": 106,
   "id": "a650a908",
   "metadata": {},
   "outputs": [
    {
     "name": "stdout",
     "output_type": "stream",
     "text": [
      "Order Statistics: Total Products Ordered: 2\n",
      "Unique Products Ordered: 4\n",
      "Percentage of Unique Products Ordered: 14.81 %\n"
     ]
    }
   ],
   "source": [
    "print_order_statistics(order_statistics)"
   ]
  },
  {
   "cell_type": "code",
   "execution_count": 109,
   "id": "22156431",
   "metadata": {},
   "outputs": [
    {
     "name": "stdout",
     "output_type": "stream",
     "text": [
      "T-shirt 19\n",
      "Mug 1\n",
      "Hat 3\n",
      "Book 3\n",
      "Keychain 1\n"
     ]
    }
   ],
   "source": [
    "print_updated_inventory(inventory)"
   ]
  }
 ],
 "metadata": {
  "kernelspec": {
   "display_name": "Python 3 (ipykernel)",
   "language": "python",
   "name": "python3"
  },
  "language_info": {
   "codemirror_mode": {
    "name": "ipython",
    "version": 3
   },
   "file_extension": ".py",
   "mimetype": "text/x-python",
   "name": "python",
   "nbconvert_exporter": "python",
   "pygments_lexer": "ipython3",
   "version": "3.10.9"
  }
 },
 "nbformat": 4,
 "nbformat_minor": 5
}
