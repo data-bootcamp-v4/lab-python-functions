{
 "cells": [
  {
   "cell_type": "markdown",
   "id": "25d7736c-ba17-4aff-b6bb-66eba20fbf4e",
   "metadata": {},
   "source": [
    "# Lab | Functions"
   ]
  },
  {
   "cell_type": "markdown",
   "id": "0c581062-8967-4d93-b06e-62833222f930",
   "metadata": {
    "tags": []
   },
   "source": [
    "## Exercise: Managing Customer Orders with Functions\n",
    "\n",
    "In the previous exercise, you improved the code for managing customer orders by using loops and flow control. Now, let's take it a step further and refactor the code by introducing functions.\n",
    "\n",
    "Follow the steps below to complete the exercise:\n",
    "\n",
    "1. Define a function named `initialize_inventory` that takes `products` as a parameter. Inside the function, implement the code for initializing the inventory dictionary using a loop and user input.\n",
    "\n",
    "2. Define a function named `get_customer_orders` that takes no parameters. Inside the function, implement the code for prompting the user to enter the product names using a loop. The function should return the `customer_orders` set.\n",
    "\n",
    "3. Define a function named `update_inventory` that takes `customer_orders` and `inventory` as parameters. Inside the function, implement the code for updating the inventory dictionary based on the customer orders.\n",
    "\n",
    "4. Define a function named `calculate_order_statistics` that takes `customer_orders` and `products` as parameters. Inside the function, implement the code for calculating the order statistics (total products ordered, and percentage of unique products ordered). The function should return these values.\n",
    "\n",
    "5. Define a function named `print_order_statistics` that takes `order_statistics` as a parameter. Inside the function, implement the code for printing the order statistics.\n",
    "\n",
    "6. Define a function named `print_updated_inventory` that takes `inventory` as a parameter. Inside the function, implement the code for printing the updated inventory.\n",
    "\n",
    "7. Call the functions in the appropriate sequence to execute the program and manage customer orders.\n",
    "\n",
    "Hints for functions:\n",
    "\n",
    "- Consider the input parameters required for each function and their return values.\n",
    "- Utilize function parameters and return values to transfer data between functions.\n",
    "- Test your functions individually to ensure they work correctly.\n",
    "\n",
    "\n"
   ]
  },
  {
   "cell_type": "code",
   "execution_count": 1,
   "id": "97e8d84c",
   "metadata": {},
   "outputs": [],
   "source": [
    "#Define a function named initialize_inventory that takes products as a parameter. \n",
    "\n",
    "def initialize_inventory(products):\n",
    "    inventory = {}\n",
    "    for product in products:\n",
    "        while True:\n",
    "            try:\n",
    "                quantity = int(input(f\"Enter the quantity of {product}: \"))\n",
    "                break\n",
    "            except ValueError:\n",
    "                print(\"Invalid input. Please enter a valid quantity.\") #gets an error in case of no int number\n",
    "\n",
    "        inventory[product] = quantity\n",
    "\n",
    "    return inventory\n",
    "\n",
    "def get_customer_orders():\n",
    "    customer_orders = set()\n",
    "    while True:\n",
    "        order = input(\"Enter the product name (or 'done' to finish): \")\n",
    "        if order == \"done\":\n",
    "            break\n",
    "\n",
    "        if order in inventory and inventory[order] > 0:\n",
    "            customer_orders.add(order)\n",
    "            inventory[order] -= 1\n",
    "        else:\n",
    "            print(f\"Sorry, the product '{order}' is currently out of inventory.\")\n",
    "\n",
    "    return customer_orders\n",
    "\n",
    "def update_inventory(customer_orders, inventory):\n",
    "    for order in customer_orders:\n",
    "        if order in inventory:\n",
    "            inventory[order] -= 1\n",
    "            if inventory[order] < 0:\n",
    "                inventory[order] = 0\n",
    "\n",
    "def calculate_order_statistics(customer_orders, products):\n",
    "    total_ordered = len(customer_orders)\n",
    "    unique_ordered = len(set(customer_orders))\n",
    "    percentage_unique = (unique_ordered / len(products)) * 100\n",
    "    return total_ordered, unique_ordered, percentage_unique\n",
    "\n",
    "def print_order_statistics(order_statistics):\n",
    "    total_ordered, unique_ordered, percentage_unique = order_statistics\n",
    "    print(\"Order Statistics:\")\n",
    "    print() \n",
    "    print(f\"Total products ordered: {total_ordered}\")\n",
    "    print(f\"Unique products ordered: {unique_ordered}\")\n",
    "    print(f\"Percentage of unique products ordered: {percentage_unique}%\")\n",
    "\n",
    "def print_updated_inventory(inventory):\n",
    "    print()\n",
    "    print(\"Updated Inventory:\")\n",
    "    for product, quantity in inventory.items():\n",
    "        print(f\"{product}: {quantity}\")"
   ]
  },
  {
   "cell_type": "code",
   "execution_count": 2,
   "id": "c8cf19d7",
   "metadata": {},
   "outputs": [
    {
     "name": "stdout",
     "output_type": "stream",
     "text": [
      "Enter the quantity of t-shirt: 50\n",
      "Enter the quantity of mug: 100\n",
      "Enter the quantity of hat: 300\n",
      "Enter the quantity of book: 20\n",
      "Enter the quantity of keychain: 10\n",
      "\n",
      "Updated Inventory:\n",
      "t-shirt: 50\n",
      "mug: 100\n",
      "hat: 300\n",
      "book: 20\n",
      "keychain: 10\n"
     ]
    }
   ],
   "source": [
    "#test functions\n",
    "##inventory\n",
    "products = [\"t-shirt\", \"mug\", \"hat\", \"book\", \"keychain\"]\n",
    "inventory = initialize_inventory(products)\n",
    "print_updated_inventory(inventory)\n"
   ]
  },
  {
   "cell_type": "code",
   "execution_count": 3,
   "id": "2efc50bb",
   "metadata": {},
   "outputs": [
    {
     "name": "stdout",
     "output_type": "stream",
     "text": [
      "Enter the product name (or 'done' to finish): keychain\n",
      "Enter the product name (or 'done' to finish): afrr\n",
      "Sorry, the product 'afrr' is currently out of inventory.\n",
      "Enter the product name (or 'done' to finish): mug\n",
      "Enter the product name (or 'done' to finish): book\n",
      "Enter the product name (or 'done' to finish): done\n"
     ]
    }
   ],
   "source": [
    "##customer_orders\n",
    "customer_orders = get_customer_orders()\n",
    "update_inventory(customer_orders, inventory)"
   ]
  },
  {
   "cell_type": "code",
   "execution_count": 4,
   "id": "ff319d71",
   "metadata": {},
   "outputs": [
    {
     "name": "stdout",
     "output_type": "stream",
     "text": [
      "Order Statistics:\n",
      "\n",
      "Total products ordered: 3\n",
      "Unique products ordered: 3\n",
      "Percentage of unique products ordered: 60.0%\n",
      "\n",
      "Updated Inventory:\n",
      "t-shirt: 50\n",
      "mug: 98\n",
      "hat: 300\n",
      "book: 18\n",
      "keychain: 8\n"
     ]
    }
   ],
   "source": [
    "order_statistics = calculate_order_statistics(customer_orders, products)\n",
    "print_order_statistics(order_statistics)\n",
    "\n",
    "print_updated_inventory(inventory)"
   ]
  }
 ],
 "metadata": {
  "kernelspec": {
   "display_name": "Python 3 (ipykernel)",
   "language": "python",
   "name": "python3"
  },
  "language_info": {
   "codemirror_mode": {
    "name": "ipython",
    "version": 3
   },
   "file_extension": ".py",
   "mimetype": "text/x-python",
   "name": "python",
   "nbconvert_exporter": "python",
   "pygments_lexer": "ipython3",
   "version": "3.10.9"
  }
 },
 "nbformat": 4,
 "nbformat_minor": 5
}
