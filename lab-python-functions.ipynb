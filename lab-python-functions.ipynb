{
 "cells": [
  {
   "cell_type": "markdown",
   "id": "25d7736c-ba17-4aff-b6bb-66eba20fbf4e",
   "metadata": {},
   "source": [
    "# Lab | Functions"
   ]
  },
  {
   "cell_type": "markdown",
   "id": "0c581062-8967-4d93-b06e-62833222f930",
   "metadata": {
    "tags": []
   },
   "source": [
    "## Exercise: Managing Customer Orders with Functions\n",
    "\n",
    "In the previous exercise, you improved the code for managing customer orders by using loops and flow control. Now, let's take it a step further and refactor the code by introducing functions.\n",
    "\n",
    "Follow the steps below to complete the exercise:\n",
    "\n",
    "1. Define a function named `initialize_inventory` that takes `products` as a parameter. Inside the function, implement the code for initializing the inventory dictionary using a loop and user input.\n",
    "\n",
    "2. Define a function named `get_customer_orders` that takes no parameters. Inside the function, implement the code for prompting the user to enter the product names using a loop. The function should return the `customer_orders` set.\n",
    "\n",
    "3. Define a function named `update_inventory` that takes `customer_orders` and `inventory` as parameters. Inside the function, implement the code for updating the inventory dictionary based on the customer orders.\n",
    "\n",
    "4. Define a function named `calculate_order_statistics` that takes `customer_orders` and `products` as parameters. Inside the function, implement the code for calculating the order statistics (total products ordered, and percentage of unique products ordered). The function should return these values.\n",
    "\n",
    "5. Define a function named `print_order_statistics` that takes `order_statistics` as a parameter. Inside the function, implement the code for printing the order statistics.\n",
    "\n",
    "6. Define a function named `print_updated_inventory` that takes `inventory` as a parameter. Inside the function, implement the code for printing the updated inventory.\n",
    "\n",
    "7. Call the functions in the appropriate sequence to execute the program and manage customer orders.\n",
    "\n",
    "Hints for functions:\n",
    "\n",
    "- Consider the input parameters required for each function and their return values.\n",
    "- Utilize function parameters and return values to transfer data between functions.\n",
    "- Test your functions individually to ensure they work correctly.\n",
    "\n",
    "\n"
   ]
  },
  {
   "cell_type": "code",
   "execution_count": 10,
   "id": "130cc703-5370-48a7-9dd9-4be2b79b6e19",
   "metadata": {},
   "outputs": [
    {
     "name": "stdin",
     "output_type": "stream",
     "text": [
      "Please enter the quantity of this item: t-shirt 2\n"
     ]
    },
    {
     "name": "stdout",
     "output_type": "stream",
     "text": [
      "2 T-Shirt added to the inventory\n"
     ]
    },
    {
     "name": "stdin",
     "output_type": "stream",
     "text": [
      "Please enter the quantity of this item: mug 4\n"
     ]
    },
    {
     "name": "stdout",
     "output_type": "stream",
     "text": [
      "4 Mug added to the inventory\n"
     ]
    },
    {
     "name": "stdin",
     "output_type": "stream",
     "text": [
      "Please enter the quantity of this item: hat 0\n"
     ]
    },
    {
     "name": "stdout",
     "output_type": "stream",
     "text": [
      "0 Hat added to the inventory\n"
     ]
    },
    {
     "name": "stdin",
     "output_type": "stream",
     "text": [
      "Please enter the quantity of this item: book \n"
     ]
    },
    {
     "name": "stdout",
     "output_type": "stream",
     "text": [
      "Please enter a valid number.\n"
     ]
    },
    {
     "name": "stdin",
     "output_type": "stream",
     "text": [
      "Please enter the quantity of this item: book 8\n"
     ]
    },
    {
     "name": "stdout",
     "output_type": "stream",
     "text": [
      "8 Book added to the inventory\n"
     ]
    },
    {
     "name": "stdin",
     "output_type": "stream",
     "text": [
      "Please enter the quantity of this item: keychain 9\n"
     ]
    },
    {
     "name": "stdout",
     "output_type": "stream",
     "text": [
      "9 Keychain added to the inventory\n",
      "{'t-shirt': 2, 'mug': 4, 'hat': 0, 'book': 8, 'keychain': 9}\n",
      "Available items = ['t-shirt', 'mug', 'book', 'keychain']\n",
      "\n"
     ]
    },
    {
     "name": "stdin",
     "output_type": "stream",
     "text": [
      "Please place your order for an available item from this list: ['t-shirt', 'mug', 'book', 'keychain'] mug\n"
     ]
    },
    {
     "name": "stdout",
     "output_type": "stream",
     "text": [
      "Mug added to order\n"
     ]
    },
    {
     "name": "stdin",
     "output_type": "stream",
     "text": [
      "Would you like to order another item? (yes/no) book\n"
     ]
    },
    {
     "name": "stdout",
     "output_type": "stream",
     "text": [
      "Yes, or no?\n"
     ]
    },
    {
     "name": "stdin",
     "output_type": "stream",
     "text": [
      "Would you like to order another item? (yes/no) yes\n",
      "Which item woud you like to order? book\n"
     ]
    },
    {
     "name": "stdout",
     "output_type": "stream",
     "text": [
      "Book added to order\n"
     ]
    },
    {
     "name": "stdin",
     "output_type": "stream",
     "text": [
      "Would you like to order another item? (yes/no) yes\n",
      "Which item woud you like to order? keychain\n"
     ]
    },
    {
     "name": "stdout",
     "output_type": "stream",
     "text": [
      "Keychain added to order\n"
     ]
    },
    {
     "name": "stdin",
     "output_type": "stream",
     "text": [
      "Would you like to order another item? (yes/no) yes\n",
      "Which item woud you like to order? hat\n"
     ]
    },
    {
     "name": "stdout",
     "output_type": "stream",
     "text": [
      "Please choose an available item.\n"
     ]
    },
    {
     "name": "stdin",
     "output_type": "stream",
     "text": [
      "Would you like to order another item? (yes/no) no\n"
     ]
    },
    {
     "name": "stdout",
     "output_type": "stream",
     "text": [
      "\n",
      "The total amount of ordered items is: 3\n",
      "The percentage of units ordered is 13.04%\n",
      "\n",
      "t-shirt: 2\n",
      "mug: 3\n",
      "hat: 0\n",
      "book: 7\n",
      "keychain: 8\n",
      "Done\n",
      "\n"
     ]
    }
   ],
   "source": [
    "products = [\"t-shirt\", \"mug\", \"hat\", \"book\", \"keychain\"]\n",
    "customer_orders = set()\n",
    "inventory = {}\n",
    "\n",
    "def initialize_inventory(products):\n",
    "    quantity = 0\n",
    "    for item in products:\n",
    "        while True:\n",
    "            try:\n",
    "                user_input = int(input(f\"Please enter the quantity of this item: {item}\"))\n",
    "                if user_input >= 0:\n",
    "                    inventory[item] = user_input\n",
    "                    quantity += user_input\n",
    "                    print(f\"{user_input} {item.title()} added to the inventory\")\n",
    "                    break\n",
    "            except ValueError:\n",
    "                print(\"Please enter a valid number.\")\n",
    "    return quantity\n",
    "                    \n",
    "def get_customer_orders():\n",
    "    count = 0\n",
    "    available_items = [x for x,y in inventory.items() if y!=0]\n",
    "    print(f\"Available items = {available_items}\\n\")\n",
    "    while True:\n",
    "        initial_order = input(f\"Please place your order for an available item from this list: {available_items}\")\n",
    "        if initial_order in available_items: \n",
    "            customer_orders.add(initial_order)\n",
    "            count += 1\n",
    "            print(f\"{initial_order.title()} added to order\")\n",
    "            break\n",
    "        else:\n",
    "            print(\"Please choose an available item.\")\n",
    "    while True:\n",
    "        follow_up = input(\"Would you like to order another item? (yes/no)\")\n",
    "        if \"yes\" in follow_up.lower():\n",
    "            follow_up_order = input(\"Which item woud you like to order?\")\n",
    "            if follow_up_order in available_items:\n",
    "                print(f\"{follow_up_order.title()} added to order\")\n",
    "                customer_orders.add(follow_up_order)\n",
    "                count += 1\n",
    "                continue\n",
    "            else:\n",
    "                print(\"Please choose an available item.\")\n",
    "                continue\n",
    "        elif \"no\" in follow_up.lower():\n",
    "            return(customer_orders, count)\n",
    "            print(f\"Placing an order for {count} items\")\n",
    "            break\n",
    "        else:\n",
    "            print(\"Yes, or no?\")\n",
    "            continue\n",
    "\n",
    "def update_inventory(customer_orders, inventory):\n",
    "    for item in inventory:\n",
    "        if item in customer_orders:\n",
    "            inventory[item] = inventory[item]-1\n",
    "\n",
    "def calculate_order_statistics(customer_orders, products):\n",
    "    total_count = count\n",
    "    statistics = (count/quantity)*100\n",
    "    return total_count, statistics\n",
    "\n",
    "def print_order_statistics(total_count, statistics):\n",
    "    print(f\"\\nThe total amount of ordered items is: {total_count}\\nThe percentage of units ordered is {round(statistics,2)}%\\n\")\n",
    "\n",
    "def print_updated_inventory(inventory):\n",
    "    for item in inventory:\n",
    "        print(f\"{item}: {inventory[item]}\")\n",
    "\n",
    "quantity = initialize_inventory(products)\n",
    "print(inventory)\n",
    "\n",
    "final_orders, count = get_customer_orders()\n",
    "update_inventory(final_orders, inventory)\n",
    "total_count, statistics = calculate_order_statistics(final_orders, products)\n",
    "print_order_statistics(total_count, statistics)\n",
    "print_updated_inventory(inventory)\n",
    "print(\"Done\\n\")\n",
    "\n"
   ]
  },
  {
   "cell_type": "code",
   "execution_count": null,
   "id": "ee812868-459e-4fbb-b495-51ccf6efbd0f",
   "metadata": {},
   "outputs": [],
   "source": []
  }
 ],
 "metadata": {
  "kernelspec": {
   "display_name": "Python 3 (ipykernel)",
   "language": "python",
   "name": "python3"
  },
  "language_info": {
   "codemirror_mode": {
    "name": "ipython",
    "version": 3
   },
   "file_extension": ".py",
   "mimetype": "text/x-python",
   "name": "python",
   "nbconvert_exporter": "python",
   "pygments_lexer": "ipython3",
   "version": "3.11.7"
  }
 },
 "nbformat": 4,
 "nbformat_minor": 5
}
