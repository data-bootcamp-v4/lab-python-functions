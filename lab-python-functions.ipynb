{
 "cells": [
  {
   "attachments": {},
   "cell_type": "markdown",
   "id": "25d7736c-ba17-4aff-b6bb-66eba20fbf4e",
   "metadata": {},
   "source": [
    "# Lab | Functions"
   ]
  },
  {
   "attachments": {},
   "cell_type": "markdown",
   "id": "3008ad72-7aca-4bea-8f7b-1000a5941d69",
   "metadata": {
    "tags": []
   },
   "source": [
    "## Exercise: Managing Customer Orders with Functions\n",
    "\n",
    "In the previous exercise, you improved the code for managing customer orders by using loops and flow control. Now, let's take it a step further and refactor the code by introducing functions.\n",
    "\n",
    "Follow the steps below to complete the exercise:\n",
    "\n",
    "1. Define a function named `initialize_inventory` that takes `products` as a parameter. Inside the function, implement the code for initializing the inventory dictionary using a loop and user input.\n",
    "\n",
    "2. Define a function named `get_customer_orders` that takes no parameters. Inside the function, implement the code for prompting the user to enter the product names using a loop. The function should return the `customer_orders` set.\n",
    "\n",
    "3. Define a function named `update_inventory` that takes `customer_orders` and `inventory` as parameters. Inside the function, implement the code for updating the inventory dictionary based on the customer orders.\n",
    "\n",
    "4. Define a function named `calculate_order_statistics` that takes `customer_orders` and `products` as parameters. Inside the function, implement the code for calculating the order statistics (total products ordered, unique products ordered, and percentage of unique products ordered). The function should return these values.\n",
    "\n",
    "5. Define a function named `print_order_statistics` that takes `order_statistics` as a parameter. Inside the function, implement the code for printing the order statistics.\n",
    "\n",
    "6. Define a function named `print_updated_inventory` that takes `inventory` as a parameter. Inside the function, implement the code for printing the updated inventory.\n",
    "\n",
    "7. Call the functions in the appropriate sequence to execute the program and manage customer orders.\n",
    "\n",
    "Hints for functions:\n",
    "\n",
    "- Consider the input parameters required for each function and their return values.\n",
    "- Utilize function parameters and return values to transfer data between functions.\n",
    "- Test your functions individually to ensure they work correctly.\n",
    "\n",
    "\n"
   ]
  },
  {
   "cell_type": "code",
   "execution_count": 57,
   "id": "2af8a479",
   "metadata": {},
   "outputs": [],
   "source": [
    "#1\n",
    "# Define a function named `initialize_inventory` that takes `products` as a parameter \n",
    "# Implement the code for initializing the inventory dictionary using a loop and user input\n",
    "\n",
    "def initialize_inventory(products):\n",
    "    inventory = {}\n",
    "    for product in products:\n",
    "        quantity = int(input(f\"Enter the quantity of {product} available in the inventory: \"))\n",
    "        inventory[product] = quantity\n",
    "    return inventory\n",
    "\n",
    "products = [\"t-shirt\", \"mug\", \"hat\", \"book\", \"keychain\"]\n",
    "inventory = initialize_inventory(products)"
   ]
  },
  {
   "cell_type": "code",
   "execution_count": 58,
   "id": "711c1e0c",
   "metadata": {},
   "outputs": [],
   "source": [
    "#2\n",
    "# Define a function named `get_customer_orders` that takes no parameters\n",
    "# Implement the code for prompting the user to enter the product names using a loop. The function should return the `customer_orders` set.\n",
    "\n",
    "def get_customer_orders():\n",
    "    customer_orders = set()\n",
    "    while True :\n",
    "        order_product = input(\"Enter the name of the product the customer wants to order: \")\n",
    "        customer_orders.add(order_product)\n",
    "\n",
    "        add_another = input(\"Do you want to add another product? (yes/no): \")\n",
    "        if add_another.lower() != \"yes\":\n",
    "            break\n",
    "    return customer_orders\n",
    "\n",
    "customer_orders = get_customer_orders()"
   ]
  },
  {
   "cell_type": "code",
   "execution_count": 60,
   "metadata": {},
   "outputs": [],
   "source": [
    "#3\n",
    "#Define a function named `update_inventory` that takes `customer_orders` and `inventory` as parameters. \n",
    "#Implement the code for updating the inventory dictionary based on the customer orders.\n",
    "\n",
    "def update_inventory(customer_orders, inventory):\n",
    "    customer_orders = set()\n",
    "    inventory = {}\n",
    "    for product in customer_orders:\n",
    "        if product in inventory:\n",
    "            inventory[product] -= 1\n",
    "    return inventory\n",
    "\n",
    "inventory = update_inventory(customer_orders, inventory)"
   ]
  },
  {
   "cell_type": "code",
   "execution_count": 61,
   "id": "6b9d4ba9",
   "metadata": {},
   "outputs": [
    {
     "data": {
      "text/plain": [
       "(1, 1, 20.0)"
      ]
     },
     "execution_count": 61,
     "metadata": {},
     "output_type": "execute_result"
    }
   ],
   "source": [
    "#4\n",
    "# Define a function named `calculate_order_statistics` that takes `customer_orders` and `products` as parameters. \n",
    "#Inside the function, implement the code for calculating the order statistics (total products ordered, unique products ordered, and percentage of unique products ordered). \n",
    "#The function should return these values.\n",
    "\n",
    "def calculate_order_statistics(customer_orders, products):\n",
    "    total_products_ordered = len(customer_orders)\n",
    "    unique_products_ordered = len(set(customer_orders))\n",
    "    percentage_unique_products_ordered = (unique_products_ordered / len(products)) * 100\n",
    "    return (total_products_ordered, unique_products_ordered, percentage_unique_products_ordered)\n",
    "    \n",
    "calculate_order_statistics(customer_orders, products)\n",
    "order_statistics = calculate_order_statistics(customer_orders, products)\n",
    "\n",
    "print(order_statistics)\n"
   ]
  },
  {
   "cell_type": "code",
   "execution_count": 68,
   "id": "19083e6a",
   "metadata": {},
   "outputs": [
    {
     "name": "stdout",
     "output_type": "stream",
     "text": [
      "Total Products Ordered: 1\n",
      "Unique Products Ordered: 1\n",
      "Percentage of Unique Products Ordered: 20.00%\n"
     ]
    }
   ],
   "source": [
    "#5\n",
    "# Define a function named `print_order_statistics` that takes `order_statistics` as a parameter. \n",
    "# Inside the function, implement the code for printing the order statistics.\n",
    "\n",
    "def print_order_statistics(order_statistics):\n",
    "    total_products_ordered, unique_products_ordered, percentage_unique_products_ordered = order_statistics[0], order_statistics[1], order_statistics[2]\n",
    "\n",
    "    print(\"Total Products Ordered:\", total_products_ordered)\n",
    "    print(\"Unique Products Ordered:\", unique_products_ordered)\n",
    "    print(\"Percentage of Unique Products Ordered: {:.2f}%\".format(percentage_unique_products_ordered))\n",
    "\n",
    "order_statistics = calculate_order_statistics(customer_orders, products)\n",
    "\n",
    "print_order_statistics(order_statistics)"
   ]
  },
  {
   "cell_type": "code",
   "execution_count": 10,
   "id": "b0cd6787",
   "metadata": {},
   "outputs": [],
   "source": [
    "#6. \n",
    "# Define a function named `print_updated_inventory` that takes `inventory` as a parameter. \n",
    "# Inside the function, implement the code for printing the updated inventory.\n",
    "# Here's the definition of the print_updated_inventory function that takes inventory as a parameter and prints the updated inventory\n",
    "\n",
    "def print_updated_inventory(inventory):\n",
    "        for product in customer_orders:\n",
    "            if product in inventory:\n",
    "                inventory[product] -= 1\n",
    "\n",
    "        print(\"Updated Inventory:\")\n",
    "        for product, quantity in inventory.items():\n",
    "            print(product, \":\", quantity)\n"
   ]
  },
  {
   "cell_type": "code",
   "execution_count": 12,
   "id": "b41e8f4b",
   "metadata": {},
   "outputs": [
    {
     "ename": "NameError",
     "evalue": "name 'inventory' is not defined",
     "output_type": "error",
     "traceback": [
      "\u001b[1;31m---------------------------------------------------------------------------\u001b[0m",
      "\u001b[1;31mNameError\u001b[0m                                 Traceback (most recent call last)",
      "Cell \u001b[1;32mIn[12], line 4\u001b[0m\n\u001b[0;32m      1\u001b[0m \u001b[39m#7. \u001b[39;00m\n\u001b[0;32m      2\u001b[0m \u001b[39m#Call the functions in the appropriate sequence to execute the program and manage customer orders.\u001b[39;00m\n\u001b[1;32m----> 4\u001b[0m print_updated_inventory(inventory)\n",
      "\u001b[1;31mNameError\u001b[0m: name 'inventory' is not defined"
     ]
    }
   ],
   "source": [
    "#7. \n",
    "#Call the functions in the appropriate sequence to execute the program and manage customer orders.\n",
    "\n"
   ]
  }
 ],
 "metadata": {
  "kernelspec": {
   "display_name": "Python 3 (ipykernel)",
   "language": "python",
   "name": "python3"
  },
  "language_info": {
   "codemirror_mode": {
    "name": "ipython",
    "version": 3
   },
   "file_extension": ".py",
   "mimetype": "text/x-python",
   "name": "python",
   "nbconvert_exporter": "python",
   "pygments_lexer": "ipython3",
   "version": "3.11.4"
  }
 },
 "nbformat": 4,
 "nbformat_minor": 5
}
