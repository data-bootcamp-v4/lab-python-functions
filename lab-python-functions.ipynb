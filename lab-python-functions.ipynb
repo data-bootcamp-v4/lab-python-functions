{
 "cells": [
  {
   "cell_type": "markdown",
   "id": "25d7736c-ba17-4aff-b6bb-66eba20fbf4e",
   "metadata": {},
   "source": [
    "# Lab | Functions"
   ]
  },
  {
   "cell_type": "markdown",
   "id": "0c581062-8967-4d93-b06e-62833222f930",
   "metadata": {
    "tags": []
   },
   "source": [
    "## Exercise: Managing Customer Orders with Functions\n",
    "\n",
    "In the previous exercise, you improved the code for managing customer orders by using loops and flow control. Now, let's take it a step further and refactor the code by introducing functions.\n",
    "\n",
    "Follow the steps below to complete the exercise:\n",
    "\n",
    "1. Define a function named `initialize_inventory` that takes `products` as a parameter. Inside the function, implement the code for initializing the inventory dictionary using a loop and user input.\n",
    "\n",
    "2. Define a function named `get_customer_orders` that takes no parameters. Inside the function, implement the code for prompting the user to enter the product names using a loop. The function should return the `customer_orders` set.\n",
    "\n",
    "3. Define a function named `update_inventory` that takes `customer_orders` and `inventory` as parameters. Inside the function, implement the code for updating the inventory dictionary based on the customer orders.\n",
    "\n",
    "4. Define a function named `calculate_order_statistics` that takes `customer_orders` and `products` as parameters. Inside the function, implement the code for calculating the order statistics (total products ordered, and percentage of unique products ordered). The function should return these values.\n",
    "\n",
    "5. Define a function named `print_order_statistics` that takes `order_statistics` as a parameter. Inside the function, implement the code for printing the order statistics.\n",
    "\n",
    "6. Define a function named `print_updated_inventory` that takes `inventory` as a parameter. Inside the function, implement the code for printing the updated inventory.\n",
    "\n",
    "7. Call the functions in the appropriate sequence to execute the program and manage customer orders.\n",
    "\n",
    "Hints for functions:\n",
    "\n",
    "- Consider the input parameters required for each function and their return values.\n",
    "- Utilize function parameters and return values to transfer data between functions.\n",
    "- Test your functions individually to ensure they work correctly.\n",
    "\n",
    "\n"
   ]
  },
  {
   "cell_type": "code",
   "execution_count": 166,
   "id": "c285b606",
   "metadata": {},
   "outputs": [],
   "source": [
    "products = ['t-shirt', 'mug', 'hat', \"book\", \"keychain\"]\n",
    "inventory = {}\n",
    "customer_orders = set()\n",
    "'''def initialize_inventory():\n",
    "    more_items = True\n",
    "    while more_items == True:\n",
    "        products = input(\"Insert product name:\")\n",
    "        for Value in products:\n",
    "            value = input(\"Value:\")\n",
    "            if value.isdigit() == True:\n",
    "                pass\n",
    "            else:\n",
    "                print (\"Invalid Input\")\n",
    "                continue\n",
    "            for product in products:\n",
    "                inventory[products] = int(value)\n",
    "            break\n",
    "        for going in products:\n",
    "            y = input(\"Do you want to add more items?(y/n)\")\n",
    "            if y == \"n\":\n",
    "                more_items = False\n",
    "                break\n",
    "            elif y == \"y\":\n",
    "                break\n",
    "            else:\n",
    "                print(\"That's not avaliable\")\n",
    "                continue\n",
    "    return inventory'''\n",
    "def initialize_inventory(products):\n",
    "    for Value in products:\n",
    "            value = input(f\"Value for {Value}:\")\n",
    "            if value.isdigit() == True:\n",
    "                inventory[Value] = int(value)\n",
    "            else:\n",
    "                print (\"Invalid Input\")\n",
    "                continue\n",
    "    return inventory\n"
   ]
  },
  {
   "cell_type": "code",
   "execution_count": 73,
   "id": "3efc9589",
   "metadata": {},
   "outputs": [],
   "source": [
    "#products = inventory.keys() Making bulletproof version\n",
    "def get_custormers_orders():\n",
    "    shopping = True\n",
    "    while shopping == True:\n",
    "        orders = input(\"What product you would like?\")\n",
    "        if orders in products:\n",
    "            customer_orders.add(orders)\n",
    "            for y in orders:\n",
    "                y = input(\"Would you like to buy anything else?(y/n)\")\n",
    "                if y == \"n\":\n",
    "                    shopping = False\n",
    "                    break \n",
    "                elif y == \"y\":\n",
    "                    break\n",
    "                else:\n",
    "                    print (\"Invalid Input\")\n",
    "                    continue\n",
    "        elif orders == \"nothing\":\n",
    "            break\n",
    "        else:\n",
    "            print(\"That's not avaliable\")\n",
    "    return customer_orders"
   ]
  },
  {
   "cell_type": "code",
   "execution_count": 141,
   "id": "e5474cf8",
   "metadata": {},
   "outputs": [],
   "source": [
    "def update_inventory(customer_orders,inventory):\n",
    "    for product in inventory:\n",
    "        if product in customer_orders:\n",
    "            inventory[product] -= 1\n",
    "    return inventory"
   ]
  },
  {
   "cell_type": "code",
   "execution_count": 66,
   "id": "3ebab8ec",
   "metadata": {},
   "outputs": [],
   "source": [
    "def calculate_order_statistics(customer_orders,products):\n",
    "    total_prod = len(customer_orders)\n",
    "    unique_prod = 0\n",
    "    for i in customer_orders:\n",
    "        unique_prod += inventory[i]\n",
    "    inventory_stash = 0\n",
    "    for i in inventory:\n",
    "        inventory_stash += inventory[i]\n",
    "    percent = unique_prod/inventory_stash*100\n",
    "    percent = (round(percent,2))\n",
    "    return percent, unique_prod, total_prod"
   ]
  },
  {
   "cell_type": "code",
   "execution_count": 51,
   "id": "a7adf3a0",
   "metadata": {},
   "outputs": [],
   "source": [
    "def print_order_statistics(order_statistics):\n",
    "    total_prod = len(customer_orders)\n",
    "    unique_prod = 0\n",
    "    for i in customer_orders:\n",
    "        unique_prod += inventory[i]\n",
    "    inventory_stash = 0\n",
    "    for i in inventory:\n",
    "        inventory_stash += inventory[i]\n",
    "    percent = unique_prod/inventory_stash*100\n",
    "    percent = (round(percent,2))\n",
    "    print(f\"Order Statistics:\" '\\n'\n",
    "        'Total Products Ordered:' ,total_prod,'\\n'\n",
    "        'Unique Products Ordered:' ,unique_prod,'\\n'\n",
    "        'Percentage of Unique Products Ordered:' ,percent,'%')\n"
   ]
  },
  {
   "cell_type": "code",
   "execution_count": 148,
   "id": "c4f8d427",
   "metadata": {},
   "outputs": [],
   "source": [
    "def print_updated_inventory(inventory):\n",
    "    for keys,value in inventory.items():\n",
    "        print(keys.capitalize(), \":\" ,value) "
   ]
  },
  {
   "cell_type": "code",
   "execution_count": 167,
   "id": "aa74acfb",
   "metadata": {},
   "outputs": [
    {
     "name": "stdout",
     "output_type": "stream",
     "text": [
      "Order Statistics:\n",
      "Total Products Ordered: 3 \n",
      "Unique Products Ordered: 93 \n",
      "Percentage of Unique Products Ordered: 97.89 %\n",
      "T-shirt : 1\n",
      "Mug : 20\n",
      "Hat : 31\n",
      "Book : 42\n",
      "Keychain : 1\n"
     ]
    }
   ],
   "source": [
    "initialize_inventory(products)\n",
    "get_custormers_orders()\n",
    "update_inventory(customer_orders, inventory)\n",
    "order_statistics = calculate_order_statistics(customer_orders,inventory)\n",
    "print_order_statistics(order_statistics)\n",
    "print_updated_inventory(inventory)\n"
   ]
  },
  {
   "cell_type": "code",
   "execution_count": null,
   "id": "7646c804",
   "metadata": {},
   "outputs": [],
   "source": []
  }
 ],
 "metadata": {
  "kernelspec": {
   "display_name": "Python 3 (ipykernel)",
   "language": "python",
   "name": "python3"
  },
  "language_info": {
   "codemirror_mode": {
    "name": "ipython",
    "version": 3
   },
   "file_extension": ".py",
   "mimetype": "text/x-python",
   "name": "python",
   "nbconvert_exporter": "python",
   "pygments_lexer": "ipython3",
   "version": "3.10.9"
  }
 },
 "nbformat": 4,
 "nbformat_minor": 5
}
